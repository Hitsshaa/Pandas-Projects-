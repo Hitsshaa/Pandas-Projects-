{
 "cells": [
  {
   "cell_type": "code",
   "execution_count": 2,
   "id": "2d5216b9",
   "metadata": {},
   "outputs": [],
   "source": [
    "import pandas as pd \n",
    "import numpy as np "
   ]
  },
  {
   "cell_type": "code",
   "execution_count": 3,
   "id": "cdddd238",
   "metadata": {},
   "outputs": [
    {
     "data": {
      "text/html": [
       "<div>\n",
       "<style scoped>\n",
       "    .dataframe tbody tr th:only-of-type {\n",
       "        vertical-align: middle;\n",
       "    }\n",
       "\n",
       "    .dataframe tbody tr th {\n",
       "        vertical-align: top;\n",
       "    }\n",
       "\n",
       "    .dataframe thead th {\n",
       "        text-align: right;\n",
       "    }\n",
       "</style>\n",
       "<table border=\"1\" class=\"dataframe\">\n",
       "  <thead>\n",
       "    <tr style=\"text-align: right;\">\n",
       "      <th></th>\n",
       "      <th>Address</th>\n",
       "      <th>Lot</th>\n",
       "      <th>AM or PM</th>\n",
       "      <th>Browser Info</th>\n",
       "      <th>Company</th>\n",
       "      <th>Credit Card</th>\n",
       "      <th>CC Exp Date</th>\n",
       "      <th>CC Security Code</th>\n",
       "      <th>CC Provider</th>\n",
       "      <th>Email</th>\n",
       "      <th>Job</th>\n",
       "      <th>IP Address</th>\n",
       "      <th>Language</th>\n",
       "      <th>Purchase Price</th>\n",
       "    </tr>\n",
       "  </thead>\n",
       "  <tbody>\n",
       "    <tr>\n",
       "      <th>0</th>\n",
       "      <td>16629 Pace Camp Apt. 448\\nAlexisborough, NE 77...</td>\n",
       "      <td>46 in</td>\n",
       "      <td>PM</td>\n",
       "      <td>Opera/9.56.(X11; Linux x86_64; sl-SI) Presto/2...</td>\n",
       "      <td>Martinez-Herman</td>\n",
       "      <td>6011929061123406</td>\n",
       "      <td>02/20</td>\n",
       "      <td>900</td>\n",
       "      <td>JCB 16 digit</td>\n",
       "      <td>pdunlap@yahoo.com</td>\n",
       "      <td>Scientist, product/process development</td>\n",
       "      <td>149.146.147.205</td>\n",
       "      <td>el</td>\n",
       "      <td>98.14</td>\n",
       "    </tr>\n",
       "    <tr>\n",
       "      <th>1</th>\n",
       "      <td>9374 Jasmine Spurs Suite 508\\nSouth John, TN 8...</td>\n",
       "      <td>28 rn</td>\n",
       "      <td>PM</td>\n",
       "      <td>Opera/8.93.(Windows 98; Win 9x 4.90; en-US) Pr...</td>\n",
       "      <td>Fletcher, Richards and Whitaker</td>\n",
       "      <td>3337758169645356</td>\n",
       "      <td>11/18</td>\n",
       "      <td>561</td>\n",
       "      <td>Mastercard</td>\n",
       "      <td>anthony41@reed.com</td>\n",
       "      <td>Drilling engineer</td>\n",
       "      <td>15.160.41.51</td>\n",
       "      <td>fr</td>\n",
       "      <td>70.73</td>\n",
       "    </tr>\n",
       "    <tr>\n",
       "      <th>2</th>\n",
       "      <td>Unit 0065 Box 5052\\nDPO AP 27450</td>\n",
       "      <td>94 vE</td>\n",
       "      <td>PM</td>\n",
       "      <td>Mozilla/5.0 (compatible; MSIE 9.0; Windows NT ...</td>\n",
       "      <td>Simpson, Williams and Pham</td>\n",
       "      <td>675957666125</td>\n",
       "      <td>08/19</td>\n",
       "      <td>699</td>\n",
       "      <td>JCB 16 digit</td>\n",
       "      <td>amymiller@morales-harrison.com</td>\n",
       "      <td>Customer service manager</td>\n",
       "      <td>132.207.160.22</td>\n",
       "      <td>de</td>\n",
       "      <td>0.95</td>\n",
       "    </tr>\n",
       "  </tbody>\n",
       "</table>\n",
       "</div>"
      ],
      "text/plain": [
       "                                             Address    Lot AM or PM  \\\n",
       "0  16629 Pace Camp Apt. 448\\nAlexisborough, NE 77...  46 in       PM   \n",
       "1  9374 Jasmine Spurs Suite 508\\nSouth John, TN 8...  28 rn       PM   \n",
       "2                   Unit 0065 Box 5052\\nDPO AP 27450  94 vE       PM   \n",
       "\n",
       "                                        Browser Info  \\\n",
       "0  Opera/9.56.(X11; Linux x86_64; sl-SI) Presto/2...   \n",
       "1  Opera/8.93.(Windows 98; Win 9x 4.90; en-US) Pr...   \n",
       "2  Mozilla/5.0 (compatible; MSIE 9.0; Windows NT ...   \n",
       "\n",
       "                           Company       Credit Card CC Exp Date  \\\n",
       "0                  Martinez-Herman  6011929061123406       02/20   \n",
       "1  Fletcher, Richards and Whitaker  3337758169645356       11/18   \n",
       "2       Simpson, Williams and Pham      675957666125       08/19   \n",
       "\n",
       "   CC Security Code   CC Provider                           Email  \\\n",
       "0               900  JCB 16 digit               pdunlap@yahoo.com   \n",
       "1               561    Mastercard              anthony41@reed.com   \n",
       "2               699  JCB 16 digit  amymiller@morales-harrison.com   \n",
       "\n",
       "                                      Job       IP Address Language  \\\n",
       "0  Scientist, product/process development  149.146.147.205       el   \n",
       "1                       Drilling engineer     15.160.41.51       fr   \n",
       "2                Customer service manager   132.207.160.22       de   \n",
       "\n",
       "   Purchase Price  \n",
       "0           98.14  \n",
       "1           70.73  \n",
       "2            0.95  "
      ]
     },
     "execution_count": 3,
     "metadata": {},
     "output_type": "execute_result"
    }
   ],
   "source": [
    "data = pd.read_csv(\"Ecommerce Purchases\")\n",
    "data.head(3)"
   ]
  },
  {
   "cell_type": "code",
   "execution_count": null,
   "id": "4e4e1ea2",
   "metadata": {},
   "outputs": [],
   "source": [
    "data.groupby('AM or PM')['Purchase Price'].mean()"
   ]
  },
  {
   "cell_type": "raw",
   "id": "ce28bd9c",
   "metadata": {},
   "source": []
  },
  {
   "cell_type": "code",
   "execution_count": null,
   "id": "60180470",
   "metadata": {},
   "outputs": [],
   "source": [
    "data.head(1)"
   ]
  },
  {
   "cell_type": "code",
   "execution_count": null,
   "id": "4228193b",
   "metadata": {},
   "outputs": [],
   "source": [
    "data.tail(2)"
   ]
  },
  {
   "cell_type": "code",
   "execution_count": null,
   "id": "44385794",
   "metadata": {},
   "outputs": [],
   "source": [
    "data.dtypes  # in order to find data type of each columns"
   ]
  },
  {
   "cell_type": "code",
   "execution_count": null,
   "id": "982e174e",
   "metadata": {},
   "outputs": [],
   "source": [
    "data.shape"
   ]
  },
  {
   "cell_type": "code",
   "execution_count": null,
   "id": "5442cbd1",
   "metadata": {},
   "outputs": [],
   "source": [
    "print(data.shape[0],data.shape[1])"
   ]
  },
  {
   "cell_type": "code",
   "execution_count": null,
   "id": "5ff92663",
   "metadata": {},
   "outputs": [],
   "source": [
    "data.columns"
   ]
  },
  {
   "cell_type": "code",
   "execution_count": null,
   "id": "a480db4d",
   "metadata": {},
   "outputs": [],
   "source": [
    "len(data.columns)  # for columns"
   ]
  },
  {
   "cell_type": "code",
   "execution_count": null,
   "id": "81905485",
   "metadata": {},
   "outputs": [],
   "source": [
    "len(data) #for rows "
   ]
  },
  {
   "cell_type": "code",
   "execution_count": null,
   "id": "08b62d1b",
   "metadata": {},
   "outputs": [],
   "source": [
    "data.isnull().tail(2)"
   ]
  },
  {
   "cell_type": "code",
   "execution_count": null,
   "id": "4148c00d",
   "metadata": {},
   "outputs": [],
   "source": [
    "data.isnull().sum()  # because isnull only contain boolean value"
   ]
  },
  {
   "cell_type": "code",
   "execution_count": null,
   "id": "4f893b54",
   "metadata": {},
   "outputs": [],
   "source": [
    "data.info()"
   ]
  },
  {
   "cell_type": "code",
   "execution_count": null,
   "id": "f919134f",
   "metadata": {},
   "outputs": [],
   "source": [
    "#for statics use\n",
    "data.describe()"
   ]
  },
  {
   "cell_type": "code",
   "execution_count": null,
   "id": "4d1b7c46",
   "metadata": {},
   "outputs": [],
   "source": [
    "data[\"Purchase Price\"].max()"
   ]
  },
  {
   "cell_type": "code",
   "execution_count": null,
   "id": "34b47ffd",
   "metadata": {},
   "outputs": [],
   "source": [
    "data[\"Purchase Price\"].min()"
   ]
  },
  {
   "cell_type": "code",
   "execution_count": null,
   "id": "03d4e82b",
   "metadata": {},
   "outputs": [],
   "source": [
    "data[\"Purchase Price\"].mean()"
   ]
  },
  {
   "cell_type": "code",
   "execution_count": null,
   "id": "ffa37e37",
   "metadata": {},
   "outputs": [],
   "source": [
    "data[\"Purchase Price\"].median()"
   ]
  },
  {
   "cell_type": "code",
   "execution_count": null,
   "id": "7ba4c6fb",
   "metadata": {},
   "outputs": [],
   "source": [
    "data[\"Purchase Price\"].mode()"
   ]
  },
  {
   "cell_type": "code",
   "execution_count": null,
   "id": "8b0f5804",
   "metadata": {},
   "outputs": [],
   "source": [
    "len(data[data[\"Language\"] == \"fr\"])"
   ]
  },
  {
   "cell_type": "code",
   "execution_count": 4,
   "id": "6f0506a5",
   "metadata": {},
   "outputs": [
    {
     "data": {
      "text/plain": [
       "0       False\n",
       "1        True\n",
       "2       False\n",
       "3       False\n",
       "4       False\n",
       "        ...  \n",
       "9995    False\n",
       "9996    False\n",
       "9997    False\n",
       "9998    False\n",
       "9999    False\n",
       "Name: Language, Length: 10000, dtype: bool"
      ]
     },
     "execution_count": 4,
     "metadata": {},
     "output_type": "execute_result"
    }
   ],
   "source": [
    "data[\"Language\"].isin([\"fr\"])"
   ]
  },
  {
   "cell_type": "code",
   "execution_count": 5,
   "id": "37b84b02",
   "metadata": {},
   "outputs": [
    {
     "data": {
      "text/plain": [
       "10000"
      ]
     },
     "execution_count": 5,
     "metadata": {},
     "output_type": "execute_result"
    }
   ],
   "source": [
    "len(data)"
   ]
  },
  {
   "cell_type": "code",
   "execution_count": 6,
   "id": "e2d4851b",
   "metadata": {},
   "outputs": [
    {
     "data": {
      "text/html": [
       "<div>\n",
       "<style scoped>\n",
       "    .dataframe tbody tr th:only-of-type {\n",
       "        vertical-align: middle;\n",
       "    }\n",
       "\n",
       "    .dataframe tbody tr th {\n",
       "        vertical-align: top;\n",
       "    }\n",
       "\n",
       "    .dataframe thead th {\n",
       "        text-align: right;\n",
       "    }\n",
       "</style>\n",
       "<table border=\"1\" class=\"dataframe\">\n",
       "  <thead>\n",
       "    <tr style=\"text-align: right;\">\n",
       "      <th></th>\n",
       "      <th>Address</th>\n",
       "      <th>Lot</th>\n",
       "      <th>AM or PM</th>\n",
       "      <th>Browser Info</th>\n",
       "      <th>Company</th>\n",
       "      <th>Credit Card</th>\n",
       "      <th>CC Exp Date</th>\n",
       "      <th>CC Security Code</th>\n",
       "      <th>CC Provider</th>\n",
       "      <th>Email</th>\n",
       "      <th>Job</th>\n",
       "      <th>IP Address</th>\n",
       "      <th>Language</th>\n",
       "      <th>Purchase Price</th>\n",
       "    </tr>\n",
       "  </thead>\n",
       "  <tbody>\n",
       "    <tr>\n",
       "      <th>1</th>\n",
       "      <td>9374 Jasmine Spurs Suite 508\\nSouth John, TN 8...</td>\n",
       "      <td>28 rn</td>\n",
       "      <td>PM</td>\n",
       "      <td>Opera/8.93.(Windows 98; Win 9x 4.90; en-US) Pr...</td>\n",
       "      <td>Fletcher, Richards and Whitaker</td>\n",
       "      <td>3337758169645356</td>\n",
       "      <td>11/18</td>\n",
       "      <td>561</td>\n",
       "      <td>Mastercard</td>\n",
       "      <td>anthony41@reed.com</td>\n",
       "      <td>Drilling engineer</td>\n",
       "      <td>15.160.41.51</td>\n",
       "      <td>fr</td>\n",
       "      <td>70.73</td>\n",
       "    </tr>\n",
       "    <tr>\n",
       "      <th>19</th>\n",
       "      <td>125 Hall Summit\\nBoothton, IL 41721</td>\n",
       "      <td>99 CU</td>\n",
       "      <td>PM</td>\n",
       "      <td>Mozilla/5.0 (compatible; MSIE 7.0; Windows NT ...</td>\n",
       "      <td>Turner-Mckinney</td>\n",
       "      <td>676343504830</td>\n",
       "      <td>02/20</td>\n",
       "      <td>440</td>\n",
       "      <td>VISA 16 digit</td>\n",
       "      <td>ruiznicole@gmail.com</td>\n",
       "      <td>Designer, interior/spatial</td>\n",
       "      <td>25.105.209.214</td>\n",
       "      <td>fr</td>\n",
       "      <td>58.39</td>\n",
       "    </tr>\n",
       "    <tr>\n",
       "      <th>53</th>\n",
       "      <td>PSC 9431, Box 7059\\nAPO AA 29285-1363</td>\n",
       "      <td>14 qD</td>\n",
       "      <td>AM</td>\n",
       "      <td>Opera/9.34.(X11; Linux x86_64; it-IT) Presto/2...</td>\n",
       "      <td>Higgins, Cardenas and Kennedy</td>\n",
       "      <td>869972604798355</td>\n",
       "      <td>08/17</td>\n",
       "      <td>157</td>\n",
       "      <td>JCB 16 digit</td>\n",
       "      <td>amorales@yahoo.com</td>\n",
       "      <td>Technical author</td>\n",
       "      <td>44.108.117.122</td>\n",
       "      <td>fr</td>\n",
       "      <td>10.41</td>\n",
       "    </tr>\n",
       "  </tbody>\n",
       "</table>\n",
       "</div>"
      ],
      "text/plain": [
       "                                              Address    Lot AM or PM  \\\n",
       "1   9374 Jasmine Spurs Suite 508\\nSouth John, TN 8...  28 rn       PM   \n",
       "19                125 Hall Summit\\nBoothton, IL 41721  99 CU       PM   \n",
       "53              PSC 9431, Box 7059\\nAPO AA 29285-1363  14 qD       AM   \n",
       "\n",
       "                                         Browser Info  \\\n",
       "1   Opera/8.93.(Windows 98; Win 9x 4.90; en-US) Pr...   \n",
       "19  Mozilla/5.0 (compatible; MSIE 7.0; Windows NT ...   \n",
       "53  Opera/9.34.(X11; Linux x86_64; it-IT) Presto/2...   \n",
       "\n",
       "                            Company       Credit Card CC Exp Date  \\\n",
       "1   Fletcher, Richards and Whitaker  3337758169645356       11/18   \n",
       "19                  Turner-Mckinney      676343504830       02/20   \n",
       "53    Higgins, Cardenas and Kennedy   869972604798355       08/17   \n",
       "\n",
       "    CC Security Code    CC Provider                 Email  \\\n",
       "1                561     Mastercard    anthony41@reed.com   \n",
       "19               440  VISA 16 digit  ruiznicole@gmail.com   \n",
       "53               157   JCB 16 digit    amorales@yahoo.com   \n",
       "\n",
       "                           Job      IP Address Language  Purchase Price  \n",
       "1            Drilling engineer    15.160.41.51       fr           70.73  \n",
       "19  Designer, interior/spatial  25.105.209.214       fr           58.39  \n",
       "53            Technical author  44.108.117.122       fr           10.41  "
      ]
     },
     "execution_count": 6,
     "metadata": {},
     "output_type": "execute_result"
    }
   ],
   "source": [
    "data[data[\"Language\"].isin([\"fr\"])].head(3)"
   ]
  },
  {
   "cell_type": "code",
   "execution_count": 7,
   "id": "91684879",
   "metadata": {},
   "outputs": [
    {
     "data": {
      "text/plain": [
       "1097"
      ]
     },
     "execution_count": 7,
     "metadata": {},
     "output_type": "execute_result"
    }
   ],
   "source": [
    "data[\"Language\"].isin([\"fr\"]).sum()"
   ]
  },
  {
   "cell_type": "code",
   "execution_count": 8,
   "id": "11974146",
   "metadata": {},
   "outputs": [
    {
     "data": {
      "text/plain": [
       "1097"
      ]
     },
     "execution_count": 8,
     "metadata": {},
     "output_type": "execute_result"
    }
   ],
   "source": [
    "len(data[data[\"Language\"].isin([\"fr\"])])"
   ]
  },
  {
   "cell_type": "code",
   "execution_count": 15,
   "id": "94770cc8",
   "metadata": {},
   "outputs": [
    {
     "data": {
      "text/plain": [
       "Address             1097\n",
       "Lot                 1097\n",
       "AM or PM            1097\n",
       "Browser Info        1097\n",
       "Company             1097\n",
       "Credit Card         1097\n",
       "CC Exp Date         1097\n",
       "CC Security Code    1097\n",
       "CC Provider         1097\n",
       "Email               1097\n",
       "Job                 1097\n",
       "IP Address          1097\n",
       "Language            1097\n",
       "Purchase Price      1097\n",
       "dtype: int64"
      ]
     },
     "execution_count": 15,
     "metadata": {},
     "output_type": "execute_result"
    }
   ],
   "source": [
    "data[data[\"Language\"].isin([\"fr\"])].count()"
   ]
  },
  {
   "cell_type": "code",
   "execution_count": 33,
   "id": "0d30a0c2",
   "metadata": {},
   "outputs": [
    {
     "data": {
      "text/plain": [
       "1097"
      ]
     },
     "execution_count": 33,
     "metadata": {},
     "output_type": "execute_result"
    }
   ],
   "source": [
    "data[data[\"Language\"].isin([\"fr\"])][\"Language\"].count()   # it use to count no  of element in rows in each columnn"
   ]
  },
  {
   "cell_type": "code",
   "execution_count": 34,
   "id": "c3e44be8",
   "metadata": {},
   "outputs": [
    {
     "data": {
      "text/plain": [
       "Address             1097\n",
       "Lot                 1097\n",
       "AM or PM            1097\n",
       "Browser Info        1097\n",
       "Company             1097\n",
       "Credit Card         1097\n",
       "CC Exp Date         1097\n",
       "CC Security Code    1097\n",
       "CC Provider         1097\n",
       "Email               1097\n",
       "Job                 1097\n",
       "IP Address          1097\n",
       "Language            1097\n",
       "Purchase Price      1097\n",
       "dtype: int64"
      ]
     },
     "execution_count": 34,
     "metadata": {},
     "output_type": "execute_result"
    }
   ],
   "source": [
    "data[data['Language'] == 'fr'].count()"
   ]
  },
  {
   "cell_type": "code",
   "execution_count": 35,
   "id": "ac09e7b2",
   "metadata": {},
   "outputs": [
    {
     "data": {
      "text/plain": [
       "0       False\n",
       "1        True\n",
       "2       False\n",
       "3        True\n",
       "4       False\n",
       "        ...  \n",
       "9995    False\n",
       "9996     True\n",
       "9997    False\n",
       "9998    False\n",
       "9999    False\n",
       "Name: Job, Length: 10000, dtype: bool"
      ]
     },
     "execution_count": 35,
     "metadata": {},
     "output_type": "execute_result"
    }
   ],
   "source": [
    "data[\"Job\"].str.contains(\"engineer\")"
   ]
  },
  {
   "cell_type": "code",
   "execution_count": 17,
   "id": "395e456f",
   "metadata": {},
   "outputs": [
    {
     "data": {
      "text/plain": [
       "531"
      ]
     },
     "execution_count": 17,
     "metadata": {},
     "output_type": "execute_result"
    }
   ],
   "source": [
    "data[\"Job\"].str.contains(\"engineer\").sum()"
   ]
  },
  {
   "cell_type": "code",
   "execution_count": 18,
   "id": "7baff2cb",
   "metadata": {},
   "outputs": [
    {
     "name": "stdout",
     "output_type": "stream",
     "text": [
      "<class 'pandas.core.strings.accessor.StringMethods'>\n"
     ]
    }
   ],
   "source": [
    "print(type(data[\"Job\"].str))"
   ]
  },
  {
   "cell_type": "code",
   "execution_count": 19,
   "id": "8abde7e9",
   "metadata": {},
   "outputs": [
    {
     "data": {
      "text/html": [
       "<div>\n",
       "<style scoped>\n",
       "    .dataframe tbody tr th:only-of-type {\n",
       "        vertical-align: middle;\n",
       "    }\n",
       "\n",
       "    .dataframe tbody tr th {\n",
       "        vertical-align: top;\n",
       "    }\n",
       "\n",
       "    .dataframe thead th {\n",
       "        text-align: right;\n",
       "    }\n",
       "</style>\n",
       "<table border=\"1\" class=\"dataframe\">\n",
       "  <thead>\n",
       "    <tr style=\"text-align: right;\">\n",
       "      <th></th>\n",
       "      <th>Address</th>\n",
       "      <th>Lot</th>\n",
       "      <th>AM or PM</th>\n",
       "      <th>Browser Info</th>\n",
       "      <th>Company</th>\n",
       "      <th>Credit Card</th>\n",
       "      <th>CC Exp Date</th>\n",
       "      <th>CC Security Code</th>\n",
       "      <th>CC Provider</th>\n",
       "      <th>Email</th>\n",
       "      <th>Job</th>\n",
       "      <th>IP Address</th>\n",
       "      <th>Language</th>\n",
       "      <th>Purchase Price</th>\n",
       "    </tr>\n",
       "  </thead>\n",
       "  <tbody>\n",
       "    <tr>\n",
       "      <th>1</th>\n",
       "      <td>9374 Jasmine Spurs Suite 508\\nSouth John, TN 8...</td>\n",
       "      <td>28 rn</td>\n",
       "      <td>PM</td>\n",
       "      <td>Opera/8.93.(Windows 98; Win 9x 4.90; en-US) Pr...</td>\n",
       "      <td>Fletcher, Richards and Whitaker</td>\n",
       "      <td>3337758169645356</td>\n",
       "      <td>11/18</td>\n",
       "      <td>561</td>\n",
       "      <td>Mastercard</td>\n",
       "      <td>anthony41@reed.com</td>\n",
       "      <td>Drilling engineer</td>\n",
       "      <td>15.160.41.51</td>\n",
       "      <td>fr</td>\n",
       "      <td>70.73</td>\n",
       "    </tr>\n",
       "    <tr>\n",
       "      <th>3</th>\n",
       "      <td>7780 Julia Fords\\nNew Stacy, WA 45798</td>\n",
       "      <td>36 vm</td>\n",
       "      <td>PM</td>\n",
       "      <td>Mozilla/5.0 (Macintosh; Intel Mac OS X 10_8_0 ...</td>\n",
       "      <td>Williams, Marshall and Buchanan</td>\n",
       "      <td>6011578504430710</td>\n",
       "      <td>02/24</td>\n",
       "      <td>384</td>\n",
       "      <td>Discover</td>\n",
       "      <td>brent16@olson-robinson.info</td>\n",
       "      <td>Drilling engineer</td>\n",
       "      <td>30.250.74.19</td>\n",
       "      <td>es</td>\n",
       "      <td>78.04</td>\n",
       "    </tr>\n",
       "  </tbody>\n",
       "</table>\n",
       "</div>"
      ],
      "text/plain": [
       "                                             Address    Lot AM or PM  \\\n",
       "1  9374 Jasmine Spurs Suite 508\\nSouth John, TN 8...  28 rn       PM   \n",
       "3              7780 Julia Fords\\nNew Stacy, WA 45798  36 vm       PM   \n",
       "\n",
       "                                        Browser Info  \\\n",
       "1  Opera/8.93.(Windows 98; Win 9x 4.90; en-US) Pr...   \n",
       "3  Mozilla/5.0 (Macintosh; Intel Mac OS X 10_8_0 ...   \n",
       "\n",
       "                           Company       Credit Card CC Exp Date  \\\n",
       "1  Fletcher, Richards and Whitaker  3337758169645356       11/18   \n",
       "3  Williams, Marshall and Buchanan  6011578504430710       02/24   \n",
       "\n",
       "   CC Security Code CC Provider                        Email  \\\n",
       "1               561  Mastercard           anthony41@reed.com   \n",
       "3               384    Discover  brent16@olson-robinson.info   \n",
       "\n",
       "                 Job    IP Address Language  Purchase Price  \n",
       "1  Drilling engineer  15.160.41.51       fr           70.73  \n",
       "3  Drilling engineer  30.250.74.19       es           78.04  "
      ]
     },
     "execution_count": 19,
     "metadata": {},
     "output_type": "execute_result"
    }
   ],
   "source": [
    "data[data[\"Job\"].str.contains(\"engineer\")].head(2)"
   ]
  },
  {
   "cell_type": "code",
   "execution_count": 20,
   "id": "13764b78",
   "metadata": {},
   "outputs": [
    {
     "data": {
      "text/plain": [
       "531"
      ]
     },
     "execution_count": 20,
     "metadata": {},
     "output_type": "execute_result"
    }
   ],
   "source": [
    "len(data[data[\"Job\"].str.contains(\"engineer\")])"
   ]
  },
  {
   "cell_type": "code",
   "execution_count": 21,
   "id": "b3bda97e",
   "metadata": {},
   "outputs": [
    {
     "data": {
      "text/plain": [
       "984"
      ]
     },
     "execution_count": 21,
     "metadata": {},
     "output_type": "execute_result"
    }
   ],
   "source": [
    "len(data[data[\"Job\"].str.contains(\"engineer\",case =False )]) # it contain all values of engineer and Engineer as we provide case = false"
   ]
  },
  {
   "cell_type": "code",
   "execution_count": 22,
   "id": "47dc54eb",
   "metadata": {},
   "outputs": [
    {
     "data": {
      "text/plain": [
       "453"
      ]
     },
     "execution_count": 22,
     "metadata": {},
     "output_type": "execute_result"
    }
   ],
   "source": [
    "len(data[data[\"Job\"].str.contains(\"Engineer\")])"
   ]
  },
  {
   "cell_type": "code",
   "execution_count": 23,
   "id": "361ab5e9",
   "metadata": {},
   "outputs": [
    {
     "data": {
      "text/plain": [
       "984"
      ]
     },
     "execution_count": 23,
     "metadata": {},
     "output_type": "execute_result"
    }
   ],
   "source": [
    "531+453   "
   ]
  },
  {
   "cell_type": "code",
   "execution_count": 24,
   "id": "12aa9eef",
   "metadata": {},
   "outputs": [
    {
     "data": {
      "text/plain": [
       "Index(['Address', 'Lot', 'AM or PM', 'Browser Info', 'Company', 'Credit Card',\n",
       "       'CC Exp Date', 'CC Security Code', 'CC Provider', 'Email', 'Job',\n",
       "       'IP Address', 'Language', 'Purchase Price'],\n",
       "      dtype='object')"
      ]
     },
     "execution_count": 24,
     "metadata": {},
     "output_type": "execute_result"
    }
   ],
   "source": [
    "data.columns"
   ]
  },
  {
   "cell_type": "code",
   "execution_count": 25,
   "id": "67e68a5e",
   "metadata": {},
   "outputs": [
    {
     "data": {
      "text/plain": [
       "0       False\n",
       "1       False\n",
       "2        True\n",
       "3       False\n",
       "4       False\n",
       "        ...  \n",
       "9995    False\n",
       "9996    False\n",
       "9997    False\n",
       "9998    False\n",
       "9999    False\n",
       "Name: IP Address, Length: 10000, dtype: bool"
      ]
     },
     "execution_count": 25,
     "metadata": {},
     "output_type": "execute_result"
    }
   ],
   "source": [
    "data[\"IP Address\"] ==\"132.207.160.22\""
   ]
  },
  {
   "cell_type": "code",
   "execution_count": 26,
   "id": "01397022",
   "metadata": {},
   "outputs": [
    {
     "data": {
      "text/html": [
       "<div>\n",
       "<style scoped>\n",
       "    .dataframe tbody tr th:only-of-type {\n",
       "        vertical-align: middle;\n",
       "    }\n",
       "\n",
       "    .dataframe tbody tr th {\n",
       "        vertical-align: top;\n",
       "    }\n",
       "\n",
       "    .dataframe thead th {\n",
       "        text-align: right;\n",
       "    }\n",
       "</style>\n",
       "<table border=\"1\" class=\"dataframe\">\n",
       "  <thead>\n",
       "    <tr style=\"text-align: right;\">\n",
       "      <th></th>\n",
       "      <th>Address</th>\n",
       "      <th>Lot</th>\n",
       "      <th>AM or PM</th>\n",
       "      <th>Browser Info</th>\n",
       "      <th>Company</th>\n",
       "      <th>Credit Card</th>\n",
       "      <th>CC Exp Date</th>\n",
       "      <th>CC Security Code</th>\n",
       "      <th>CC Provider</th>\n",
       "      <th>Email</th>\n",
       "      <th>Job</th>\n",
       "      <th>IP Address</th>\n",
       "      <th>Language</th>\n",
       "      <th>Purchase Price</th>\n",
       "    </tr>\n",
       "  </thead>\n",
       "  <tbody>\n",
       "    <tr>\n",
       "      <th>2</th>\n",
       "      <td>Unit 0065 Box 5052\\nDPO AP 27450</td>\n",
       "      <td>94 vE</td>\n",
       "      <td>PM</td>\n",
       "      <td>Mozilla/5.0 (compatible; MSIE 9.0; Windows NT ...</td>\n",
       "      <td>Simpson, Williams and Pham</td>\n",
       "      <td>675957666125</td>\n",
       "      <td>08/19</td>\n",
       "      <td>699</td>\n",
       "      <td>JCB 16 digit</td>\n",
       "      <td>amymiller@morales-harrison.com</td>\n",
       "      <td>Customer service manager</td>\n",
       "      <td>132.207.160.22</td>\n",
       "      <td>de</td>\n",
       "      <td>0.95</td>\n",
       "    </tr>\n",
       "  </tbody>\n",
       "</table>\n",
       "</div>"
      ],
      "text/plain": [
       "                            Address    Lot AM or PM  \\\n",
       "2  Unit 0065 Box 5052\\nDPO AP 27450  94 vE       PM   \n",
       "\n",
       "                                        Browser Info  \\\n",
       "2  Mozilla/5.0 (compatible; MSIE 9.0; Windows NT ...   \n",
       "\n",
       "                      Company   Credit Card CC Exp Date  CC Security Code  \\\n",
       "2  Simpson, Williams and Pham  675957666125       08/19               699   \n",
       "\n",
       "    CC Provider                           Email                       Job  \\\n",
       "2  JCB 16 digit  amymiller@morales-harrison.com  Customer service manager   \n",
       "\n",
       "       IP Address Language  Purchase Price  \n",
       "2  132.207.160.22       de            0.95  "
      ]
     },
     "execution_count": 26,
     "metadata": {},
     "output_type": "execute_result"
    }
   ],
   "source": [
    "data[data[\"IP Address\"] ==\"132.207.160.22\"]"
   ]
  },
  {
   "cell_type": "code",
   "execution_count": 27,
   "id": "2d4a3899",
   "metadata": {},
   "outputs": [
    {
     "data": {
      "text/plain": [
       "2    amymiller@morales-harrison.com\n",
       "Name: Email, dtype: object"
      ]
     },
     "execution_count": 27,
     "metadata": {},
     "output_type": "execute_result"
    }
   ],
   "source": [
    "data[data[\"IP Address\"] ==\"132.207.160.22\"][\"Email\"]"
   ]
  },
  {
   "cell_type": "code",
   "execution_count": 28,
   "id": "b58afc43",
   "metadata": {},
   "outputs": [
    {
     "data": {
      "text/plain": [
       "0                      JCB 16 digit\n",
       "1                        Mastercard\n",
       "2                      JCB 16 digit\n",
       "3                          Discover\n",
       "4       Diners Club / Carte Blanche\n",
       "                   ...             \n",
       "9995                   JCB 15 digit\n",
       "9996                   JCB 16 digit\n",
       "9997                  VISA 16 digit\n",
       "9998               American Express\n",
       "9999                   JCB 15 digit\n",
       "Name: CC Provider, Length: 10000, dtype: object"
      ]
     },
     "execution_count": 28,
     "metadata": {},
     "output_type": "execute_result"
    }
   ],
   "source": [
    "data[\"CC Provider\"]"
   ]
  },
  {
   "cell_type": "code",
   "execution_count": 36,
   "id": "79424a05",
   "metadata": {},
   "outputs": [
    {
     "ename": "AttributeError",
     "evalue": "'str' object has no attribute 'sum'",
     "output_type": "error",
     "traceback": [
      "\u001b[1;31m---------------------------------------------------------------------------\u001b[0m",
      "\u001b[1;31mAttributeError\u001b[0m                            Traceback (most recent call last)",
      "\u001b[1;32m~\\AppData\\Local\\Temp/ipykernel_7332/3912121568.py\u001b[0m in \u001b[0;36m<module>\u001b[1;34m\u001b[0m\n\u001b[1;32m----> 1\u001b[1;33m \u001b[0mdata\u001b[0m\u001b[1;33m[\u001b[0m\u001b[1;34m\"CC Provider\"\u001b[0m\u001b[1;33m]\u001b[0m \u001b[1;33m==\u001b[0m  \u001b[1;34m\"Mastercard\"\u001b[0m\u001b[1;33m.\u001b[0m\u001b[0msum\u001b[0m\u001b[1;33m(\u001b[0m\u001b[1;33m)\u001b[0m\u001b[1;33m\u001b[0m\u001b[1;33m\u001b[0m\u001b[0m\n\u001b[0m",
      "\u001b[1;31mAttributeError\u001b[0m: 'str' object has no attribute 'sum'"
     ]
    }
   ],
   "source": [
    "data[\"CC Provider\"] ==  \"Mastercard\".sum()"
   ]
  },
  {
   "cell_type": "code",
   "execution_count": 31,
   "id": "332ea7bb",
   "metadata": {},
   "outputs": [
    {
     "data": {
      "text/plain": [
       "816"
      ]
     },
     "execution_count": 31,
     "metadata": {},
     "output_type": "execute_result"
    }
   ],
   "source": [
    "(data[\"CC Provider\"] ==  \"Mastercard\").sum()"
   ]
  },
  {
   "cell_type": "code",
   "execution_count": 37,
   "id": "3d7abaad",
   "metadata": {},
   "outputs": [
    {
     "data": {
      "text/html": [
       "<div>\n",
       "<style scoped>\n",
       "    .dataframe tbody tr th:only-of-type {\n",
       "        vertical-align: middle;\n",
       "    }\n",
       "\n",
       "    .dataframe tbody tr th {\n",
       "        vertical-align: top;\n",
       "    }\n",
       "\n",
       "    .dataframe thead th {\n",
       "        text-align: right;\n",
       "    }\n",
       "</style>\n",
       "<table border=\"1\" class=\"dataframe\">\n",
       "  <thead>\n",
       "    <tr style=\"text-align: right;\">\n",
       "      <th></th>\n",
       "      <th>Address</th>\n",
       "      <th>Lot</th>\n",
       "      <th>AM or PM</th>\n",
       "      <th>Browser Info</th>\n",
       "      <th>Company</th>\n",
       "      <th>Credit Card</th>\n",
       "      <th>CC Exp Date</th>\n",
       "      <th>CC Security Code</th>\n",
       "      <th>CC Provider</th>\n",
       "      <th>Email</th>\n",
       "      <th>Job</th>\n",
       "      <th>IP Address</th>\n",
       "      <th>Language</th>\n",
       "      <th>Purchase Price</th>\n",
       "    </tr>\n",
       "  </thead>\n",
       "  <tbody>\n",
       "    <tr>\n",
       "      <th>1</th>\n",
       "      <td>9374 Jasmine Spurs Suite 508\\nSouth John, TN 8...</td>\n",
       "      <td>28 rn</td>\n",
       "      <td>PM</td>\n",
       "      <td>Opera/8.93.(Windows 98; Win 9x 4.90; en-US) Pr...</td>\n",
       "      <td>Fletcher, Richards and Whitaker</td>\n",
       "      <td>3337758169645356</td>\n",
       "      <td>11/18</td>\n",
       "      <td>561</td>\n",
       "      <td>Mastercard</td>\n",
       "      <td>anthony41@reed.com</td>\n",
       "      <td>Drilling engineer</td>\n",
       "      <td>15.160.41.51</td>\n",
       "      <td>fr</td>\n",
       "      <td>70.73</td>\n",
       "    </tr>\n",
       "    <tr>\n",
       "      <th>18</th>\n",
       "      <td>461 Christopher Square\\nWest Michaelchester, C...</td>\n",
       "      <td>17 SB</td>\n",
       "      <td>PM</td>\n",
       "      <td>Mozilla/5.0 (X11; Linux i686; rv:1.9.6.20) Gec...</td>\n",
       "      <td>Beard, Abbott and Pena</td>\n",
       "      <td>6011350184276270</td>\n",
       "      <td>12/22</td>\n",
       "      <td>767</td>\n",
       "      <td>Mastercard</td>\n",
       "      <td>hannah63@yahoo.com</td>\n",
       "      <td>Photographer</td>\n",
       "      <td>73.250.176.201</td>\n",
       "      <td>el</td>\n",
       "      <td>70.15</td>\n",
       "    </tr>\n",
       "    <tr>\n",
       "      <th>31</th>\n",
       "      <td>USNS Alvarado\\nFPO AA 27052-1231</td>\n",
       "      <td>26 Lh</td>\n",
       "      <td>PM</td>\n",
       "      <td>Opera/8.84.(X11; Linux i686; sl-SI) Presto/2.9...</td>\n",
       "      <td>Nicholson Group</td>\n",
       "      <td>4614997834548</td>\n",
       "      <td>03/22</td>\n",
       "      <td>909</td>\n",
       "      <td>Mastercard</td>\n",
       "      <td>ashley12@hotmail.com</td>\n",
       "      <td>Sales executive</td>\n",
       "      <td>94.176.142.201</td>\n",
       "      <td>en</td>\n",
       "      <td>94.14</td>\n",
       "    </tr>\n",
       "  </tbody>\n",
       "</table>\n",
       "</div>"
      ],
      "text/plain": [
       "                                              Address    Lot AM or PM  \\\n",
       "1   9374 Jasmine Spurs Suite 508\\nSouth John, TN 8...  28 rn       PM   \n",
       "18  461 Christopher Square\\nWest Michaelchester, C...  17 SB       PM   \n",
       "31                   USNS Alvarado\\nFPO AA 27052-1231  26 Lh       PM   \n",
       "\n",
       "                                         Browser Info  \\\n",
       "1   Opera/8.93.(Windows 98; Win 9x 4.90; en-US) Pr...   \n",
       "18  Mozilla/5.0 (X11; Linux i686; rv:1.9.6.20) Gec...   \n",
       "31  Opera/8.84.(X11; Linux i686; sl-SI) Presto/2.9...   \n",
       "\n",
       "                            Company       Credit Card CC Exp Date  \\\n",
       "1   Fletcher, Richards and Whitaker  3337758169645356       11/18   \n",
       "18           Beard, Abbott and Pena  6011350184276270       12/22   \n",
       "31                  Nicholson Group     4614997834548       03/22   \n",
       "\n",
       "    CC Security Code CC Provider                 Email                Job  \\\n",
       "1                561  Mastercard    anthony41@reed.com  Drilling engineer   \n",
       "18               767  Mastercard    hannah63@yahoo.com       Photographer   \n",
       "31               909  Mastercard  ashley12@hotmail.com    Sales executive   \n",
       "\n",
       "        IP Address Language  Purchase Price  \n",
       "1     15.160.41.51       fr           70.73  \n",
       "18  73.250.176.201       el           70.15  \n",
       "31  94.176.142.201       en           94.14  "
      ]
     },
     "execution_count": 37,
     "metadata": {},
     "output_type": "execute_result"
    }
   ],
   "source": [
    "(data[data[\"CC Provider\"] ==  \"Mastercard\"]).head(3)"
   ]
  },
  {
   "cell_type": "code",
   "execution_count": 38,
   "id": "c6e2675a",
   "metadata": {},
   "outputs": [
    {
     "data": {
      "text/plain": [
       "816"
      ]
     },
     "execution_count": 38,
     "metadata": {},
     "output_type": "execute_result"
    }
   ],
   "source": [
    "len(data[data[\"CC Provider\"] ==  \"Mastercard\"])"
   ]
  },
  {
   "cell_type": "code",
   "execution_count": 44,
   "id": "814ba460",
   "metadata": {},
   "outputs": [
    {
     "data": {
      "text/plain": [
       "1        True\n",
       "18       True\n",
       "31       True\n",
       "35       True\n",
       "41      False\n",
       "        ...  \n",
       "9947    False\n",
       "9948     True\n",
       "9954     True\n",
       "9981     True\n",
       "9987     True\n",
       "Name: Purchase Price, Length: 816, dtype: bool"
      ]
     },
     "execution_count": 44,
     "metadata": {},
     "output_type": "execute_result"
    }
   ],
   "source": [
    "a =data[data[\"CC Provider\"] ==  \"Mastercard\"][\"Purchase Price\"] > 50\n",
    "a"
   ]
  },
  {
   "cell_type": "code",
   "execution_count": null,
   "id": "4834f66f",
   "metadata": {},
   "outputs": [],
   "source": [
    "(data[data[\"CC Provider\"] ==  \"Mastercard\"][\"Purchase Price\"] > 50).sum()  # condition\n",
    "#(data[\"CC Provider\"] ==  \"Mastercard\") create an boolean series and we enclose that boolean series\n",
    "#in data eg(data[data[\"CC Provider\"] ==  \"Mastercard\"]) now it became dataframe  again and  \n",
    "# after some modification it again became condition \n",
    "#eg(data[data[\"CC Provider\"] ==  \"Mastercard\"][\"Purchase Price\"] > 50) ) and it produce a boolean \n",
    "#series and we use sum function to count boolean values and tell how many rows follow that condition "
   ]
  },
  {
   "cell_type": "code",
   "execution_count": null,
   "id": "7f14702d",
   "metadata": {},
   "outputs": [],
   "source": [
    "data[data[data[\"CC Provider\"] ==  \"Mastercard\"][\"Purchase Price\"] > 50]    ### doubt"
   ]
  },
  {
   "cell_type": "code",
   "execution_count": 45,
   "id": "d6c897a4",
   "metadata": {},
   "outputs": [
    {
     "data": {
      "text/html": [
       "<div>\n",
       "<style scoped>\n",
       "    .dataframe tbody tr th:only-of-type {\n",
       "        vertical-align: middle;\n",
       "    }\n",
       "\n",
       "    .dataframe tbody tr th {\n",
       "        vertical-align: top;\n",
       "    }\n",
       "\n",
       "    .dataframe thead th {\n",
       "        text-align: right;\n",
       "    }\n",
       "</style>\n",
       "<table border=\"1\" class=\"dataframe\">\n",
       "  <thead>\n",
       "    <tr style=\"text-align: right;\">\n",
       "      <th></th>\n",
       "      <th>Address</th>\n",
       "      <th>Lot</th>\n",
       "      <th>AM or PM</th>\n",
       "      <th>Browser Info</th>\n",
       "      <th>Company</th>\n",
       "      <th>Credit Card</th>\n",
       "      <th>CC Exp Date</th>\n",
       "      <th>CC Security Code</th>\n",
       "      <th>CC Provider</th>\n",
       "      <th>Email</th>\n",
       "      <th>Job</th>\n",
       "      <th>IP Address</th>\n",
       "      <th>Language</th>\n",
       "      <th>Purchase Price</th>\n",
       "    </tr>\n",
       "  </thead>\n",
       "  <tbody>\n",
       "    <tr>\n",
       "      <th>1</th>\n",
       "      <td>9374 Jasmine Spurs Suite 508\\nSouth John, TN 8...</td>\n",
       "      <td>28 rn</td>\n",
       "      <td>PM</td>\n",
       "      <td>Opera/8.93.(Windows 98; Win 9x 4.90; en-US) Pr...</td>\n",
       "      <td>Fletcher, Richards and Whitaker</td>\n",
       "      <td>3337758169645356</td>\n",
       "      <td>11/18</td>\n",
       "      <td>561</td>\n",
       "      <td>Mastercard</td>\n",
       "      <td>anthony41@reed.com</td>\n",
       "      <td>Drilling engineer</td>\n",
       "      <td>15.160.41.51</td>\n",
       "      <td>fr</td>\n",
       "      <td>70.73</td>\n",
       "    </tr>\n",
       "    <tr>\n",
       "      <th>18</th>\n",
       "      <td>461 Christopher Square\\nWest Michaelchester, C...</td>\n",
       "      <td>17 SB</td>\n",
       "      <td>PM</td>\n",
       "      <td>Mozilla/5.0 (X11; Linux i686; rv:1.9.6.20) Gec...</td>\n",
       "      <td>Beard, Abbott and Pena</td>\n",
       "      <td>6011350184276270</td>\n",
       "      <td>12/22</td>\n",
       "      <td>767</td>\n",
       "      <td>Mastercard</td>\n",
       "      <td>hannah63@yahoo.com</td>\n",
       "      <td>Photographer</td>\n",
       "      <td>73.250.176.201</td>\n",
       "      <td>el</td>\n",
       "      <td>70.15</td>\n",
       "    </tr>\n",
       "    <tr>\n",
       "      <th>31</th>\n",
       "      <td>USNS Alvarado\\nFPO AA 27052-1231</td>\n",
       "      <td>26 Lh</td>\n",
       "      <td>PM</td>\n",
       "      <td>Opera/8.84.(X11; Linux i686; sl-SI) Presto/2.9...</td>\n",
       "      <td>Nicholson Group</td>\n",
       "      <td>4614997834548</td>\n",
       "      <td>03/22</td>\n",
       "      <td>909</td>\n",
       "      <td>Mastercard</td>\n",
       "      <td>ashley12@hotmail.com</td>\n",
       "      <td>Sales executive</td>\n",
       "      <td>94.176.142.201</td>\n",
       "      <td>en</td>\n",
       "      <td>94.14</td>\n",
       "    </tr>\n",
       "    <tr>\n",
       "      <th>35</th>\n",
       "      <td>93392 Webb Gardens Apt. 220\\nLaurabury, AR 999...</td>\n",
       "      <td>37 om</td>\n",
       "      <td>AM</td>\n",
       "      <td>Mozilla/5.0 (Macintosh; U; Intel Mac OS X 10_7...</td>\n",
       "      <td>Mora Ltd</td>\n",
       "      <td>6011049630969815</td>\n",
       "      <td>09/16</td>\n",
       "      <td>367</td>\n",
       "      <td>Mastercard</td>\n",
       "      <td>hgonzalez@mcdowell.com</td>\n",
       "      <td>Lecturer, further education</td>\n",
       "      <td>216.23.95.40</td>\n",
       "      <td>zh</td>\n",
       "      <td>97.46</td>\n",
       "    </tr>\n",
       "    <tr>\n",
       "      <th>90</th>\n",
       "      <td>431 Bowen Lights\\nFergusonborough, MH 01362</td>\n",
       "      <td>31 tG</td>\n",
       "      <td>AM</td>\n",
       "      <td>Mozilla/5.0 (Windows NT 5.2; it-IT; rv:1.9.1.2...</td>\n",
       "      <td>Copeland-Lee</td>\n",
       "      <td>639032576097</td>\n",
       "      <td>06/18</td>\n",
       "      <td>868</td>\n",
       "      <td>Mastercard</td>\n",
       "      <td>nrogers@brown.com</td>\n",
       "      <td>Teacher, English as a foreign language</td>\n",
       "      <td>153.188.13.203</td>\n",
       "      <td>es</td>\n",
       "      <td>78.86</td>\n",
       "    </tr>\n",
       "    <tr>\n",
       "      <th>...</th>\n",
       "      <td>...</td>\n",
       "      <td>...</td>\n",
       "      <td>...</td>\n",
       "      <td>...</td>\n",
       "      <td>...</td>\n",
       "      <td>...</td>\n",
       "      <td>...</td>\n",
       "      <td>...</td>\n",
       "      <td>...</td>\n",
       "      <td>...</td>\n",
       "      <td>...</td>\n",
       "      <td>...</td>\n",
       "      <td>...</td>\n",
       "      <td>...</td>\n",
       "    </tr>\n",
       "    <tr>\n",
       "      <th>9941</th>\n",
       "      <td>43757 Brown Lodge\\nValerieberg, PR 88518</td>\n",
       "      <td>68 DG</td>\n",
       "      <td>AM</td>\n",
       "      <td>Mozilla/5.0 (compatible; MSIE 5.0; Windows NT ...</td>\n",
       "      <td>Jones, Williams and Dunn</td>\n",
       "      <td>6011508474487291</td>\n",
       "      <td>04/26</td>\n",
       "      <td>906</td>\n",
       "      <td>Mastercard</td>\n",
       "      <td>christian55@gmail.com</td>\n",
       "      <td>Secondary school teacher</td>\n",
       "      <td>216.118.235.145</td>\n",
       "      <td>fr</td>\n",
       "      <td>60.03</td>\n",
       "    </tr>\n",
       "    <tr>\n",
       "      <th>9948</th>\n",
       "      <td>95544 Johnson Isle Suite 939\\nMichaelberg, RI ...</td>\n",
       "      <td>91 bW</td>\n",
       "      <td>AM</td>\n",
       "      <td>Opera/8.36.(X11; Linux x86_64; sl-SI) Presto/2...</td>\n",
       "      <td>Fox-Peterson</td>\n",
       "      <td>4762924304307</td>\n",
       "      <td>03/17</td>\n",
       "      <td>567</td>\n",
       "      <td>Mastercard</td>\n",
       "      <td>haleybenjamin@gmail.com</td>\n",
       "      <td>Structural engineer</td>\n",
       "      <td>120.36.140.58</td>\n",
       "      <td>en</td>\n",
       "      <td>71.89</td>\n",
       "    </tr>\n",
       "    <tr>\n",
       "      <th>9954</th>\n",
       "      <td>051 Samantha Wells Apt. 328\\nScottborough, OR ...</td>\n",
       "      <td>11 vG</td>\n",
       "      <td>AM</td>\n",
       "      <td>Mozilla/5.0 (Macintosh; U; PPC Mac OS X 10_8_2...</td>\n",
       "      <td>Mendoza, Zimmerman and Reilly</td>\n",
       "      <td>30232295374907</td>\n",
       "      <td>05/21</td>\n",
       "      <td>762</td>\n",
       "      <td>Mastercard</td>\n",
       "      <td>brownamy@perkins.com</td>\n",
       "      <td>Presenter, broadcasting</td>\n",
       "      <td>61.97.84.101</td>\n",
       "      <td>it</td>\n",
       "      <td>87.15</td>\n",
       "    </tr>\n",
       "    <tr>\n",
       "      <th>9981</th>\n",
       "      <td>087 Larson Roads Apt. 587\\nRicestad, WI 98077-...</td>\n",
       "      <td>95 Kw</td>\n",
       "      <td>AM</td>\n",
       "      <td>Opera/9.63.(Windows NT 5.01; en-US) Presto/2.9...</td>\n",
       "      <td>Ortiz, Schultz and Adams</td>\n",
       "      <td>4690863684605</td>\n",
       "      <td>01/19</td>\n",
       "      <td>695</td>\n",
       "      <td>Mastercard</td>\n",
       "      <td>laurenbennett@richards.com</td>\n",
       "      <td>Environmental education officer</td>\n",
       "      <td>106.21.237.73</td>\n",
       "      <td>pt</td>\n",
       "      <td>63.61</td>\n",
       "    </tr>\n",
       "    <tr>\n",
       "      <th>9987</th>\n",
       "      <td>2754 Klein Mission\\nJohnsonview, PA 64925-9624</td>\n",
       "      <td>65 Fg</td>\n",
       "      <td>PM</td>\n",
       "      <td>Opera/9.26.(Windows CE; sl-SI) Presto/2.9.188 ...</td>\n",
       "      <td>Curtis LLC</td>\n",
       "      <td>180027305702263</td>\n",
       "      <td>12/24</td>\n",
       "      <td>865</td>\n",
       "      <td>Mastercard</td>\n",
       "      <td>denisehamilton@novak.biz</td>\n",
       "      <td>Primary school teacher</td>\n",
       "      <td>164.39.190.217</td>\n",
       "      <td>es</td>\n",
       "      <td>60.83</td>\n",
       "    </tr>\n",
       "  </tbody>\n",
       "</table>\n",
       "<p>405 rows × 14 columns</p>\n",
       "</div>"
      ],
      "text/plain": [
       "                                                Address    Lot AM or PM  \\\n",
       "1     9374 Jasmine Spurs Suite 508\\nSouth John, TN 8...  28 rn       PM   \n",
       "18    461 Christopher Square\\nWest Michaelchester, C...  17 SB       PM   \n",
       "31                     USNS Alvarado\\nFPO AA 27052-1231  26 Lh       PM   \n",
       "35    93392 Webb Gardens Apt. 220\\nLaurabury, AR 999...  37 om       AM   \n",
       "90          431 Bowen Lights\\nFergusonborough, MH 01362  31 tG       AM   \n",
       "...                                                 ...    ...      ...   \n",
       "9941           43757 Brown Lodge\\nValerieberg, PR 88518  68 DG       AM   \n",
       "9948  95544 Johnson Isle Suite 939\\nMichaelberg, RI ...  91 bW       AM   \n",
       "9954  051 Samantha Wells Apt. 328\\nScottborough, OR ...  11 vG       AM   \n",
       "9981  087 Larson Roads Apt. 587\\nRicestad, WI 98077-...  95 Kw       AM   \n",
       "9987     2754 Klein Mission\\nJohnsonview, PA 64925-9624  65 Fg       PM   \n",
       "\n",
       "                                           Browser Info  \\\n",
       "1     Opera/8.93.(Windows 98; Win 9x 4.90; en-US) Pr...   \n",
       "18    Mozilla/5.0 (X11; Linux i686; rv:1.9.6.20) Gec...   \n",
       "31    Opera/8.84.(X11; Linux i686; sl-SI) Presto/2.9...   \n",
       "35    Mozilla/5.0 (Macintosh; U; Intel Mac OS X 10_7...   \n",
       "90    Mozilla/5.0 (Windows NT 5.2; it-IT; rv:1.9.1.2...   \n",
       "...                                                 ...   \n",
       "9941  Mozilla/5.0 (compatible; MSIE 5.0; Windows NT ...   \n",
       "9948  Opera/8.36.(X11; Linux x86_64; sl-SI) Presto/2...   \n",
       "9954  Mozilla/5.0 (Macintosh; U; PPC Mac OS X 10_8_2...   \n",
       "9981  Opera/9.63.(Windows NT 5.01; en-US) Presto/2.9...   \n",
       "9987  Opera/9.26.(Windows CE; sl-SI) Presto/2.9.188 ...   \n",
       "\n",
       "                              Company       Credit Card CC Exp Date  \\\n",
       "1     Fletcher, Richards and Whitaker  3337758169645356       11/18   \n",
       "18             Beard, Abbott and Pena  6011350184276270       12/22   \n",
       "31                    Nicholson Group     4614997834548       03/22   \n",
       "35                           Mora Ltd  6011049630969815       09/16   \n",
       "90                       Copeland-Lee      639032576097       06/18   \n",
       "...                               ...               ...         ...   \n",
       "9941         Jones, Williams and Dunn  6011508474487291       04/26   \n",
       "9948                     Fox-Peterson     4762924304307       03/17   \n",
       "9954    Mendoza, Zimmerman and Reilly    30232295374907       05/21   \n",
       "9981         Ortiz, Schultz and Adams     4690863684605       01/19   \n",
       "9987                       Curtis LLC   180027305702263       12/24   \n",
       "\n",
       "      CC Security Code CC Provider                       Email  \\\n",
       "1                  561  Mastercard          anthony41@reed.com   \n",
       "18                 767  Mastercard          hannah63@yahoo.com   \n",
       "31                 909  Mastercard        ashley12@hotmail.com   \n",
       "35                 367  Mastercard      hgonzalez@mcdowell.com   \n",
       "90                 868  Mastercard           nrogers@brown.com   \n",
       "...                ...         ...                         ...   \n",
       "9941               906  Mastercard       christian55@gmail.com   \n",
       "9948               567  Mastercard     haleybenjamin@gmail.com   \n",
       "9954               762  Mastercard        brownamy@perkins.com   \n",
       "9981               695  Mastercard  laurenbennett@richards.com   \n",
       "9987               865  Mastercard    denisehamilton@novak.biz   \n",
       "\n",
       "                                         Job       IP Address Language  \\\n",
       "1                          Drilling engineer     15.160.41.51       fr   \n",
       "18                              Photographer   73.250.176.201       el   \n",
       "31                           Sales executive   94.176.142.201       en   \n",
       "35               Lecturer, further education     216.23.95.40       zh   \n",
       "90    Teacher, English as a foreign language   153.188.13.203       es   \n",
       "...                                      ...              ...      ...   \n",
       "9941                Secondary school teacher  216.118.235.145       fr   \n",
       "9948                     Structural engineer    120.36.140.58       en   \n",
       "9954                 Presenter, broadcasting     61.97.84.101       it   \n",
       "9981         Environmental education officer    106.21.237.73       pt   \n",
       "9987                  Primary school teacher   164.39.190.217       es   \n",
       "\n",
       "      Purchase Price  \n",
       "1              70.73  \n",
       "18             70.15  \n",
       "31             94.14  \n",
       "35             97.46  \n",
       "90             78.86  \n",
       "...              ...  \n",
       "9941           60.03  \n",
       "9948           71.89  \n",
       "9954           87.15  \n",
       "9981           63.61  \n",
       "9987           60.83  \n",
       "\n",
       "[405 rows x 14 columns]"
      ]
     },
     "execution_count": 45,
     "metadata": {},
     "output_type": "execute_result"
    }
   ],
   "source": [
    "data[(data[\"CC Provider\"] ==  \"Mastercard\") & (data[\"Purchase Price\"] > 50)]"
   ]
  },
  {
   "cell_type": "code",
   "execution_count": 46,
   "id": "32a73555",
   "metadata": {},
   "outputs": [
    {
     "data": {
      "text/html": [
       "<div>\n",
       "<style scoped>\n",
       "    .dataframe tbody tr th:only-of-type {\n",
       "        vertical-align: middle;\n",
       "    }\n",
       "\n",
       "    .dataframe tbody tr th {\n",
       "        vertical-align: top;\n",
       "    }\n",
       "\n",
       "    .dataframe thead th {\n",
       "        text-align: right;\n",
       "    }\n",
       "</style>\n",
       "<table border=\"1\" class=\"dataframe\">\n",
       "  <thead>\n",
       "    <tr style=\"text-align: right;\">\n",
       "      <th></th>\n",
       "      <th>Address</th>\n",
       "      <th>Lot</th>\n",
       "      <th>AM or PM</th>\n",
       "      <th>Browser Info</th>\n",
       "      <th>Company</th>\n",
       "      <th>Credit Card</th>\n",
       "      <th>CC Exp Date</th>\n",
       "      <th>CC Security Code</th>\n",
       "      <th>CC Provider</th>\n",
       "      <th>Email</th>\n",
       "      <th>Job</th>\n",
       "      <th>IP Address</th>\n",
       "      <th>Language</th>\n",
       "      <th>Purchase Price</th>\n",
       "    </tr>\n",
       "  </thead>\n",
       "  <tbody>\n",
       "    <tr>\n",
       "      <th>9992</th>\n",
       "      <td>885 Allen Mountains Apt. 230\\nWallhaven, LA 16995</td>\n",
       "      <td>40 vH</td>\n",
       "      <td>PM</td>\n",
       "      <td>Mozilla/5.0 (Macintosh; PPC Mac OS X 10_6_5) A...</td>\n",
       "      <td>Wells Ltd</td>\n",
       "      <td>4664825258997302</td>\n",
       "      <td>10/20</td>\n",
       "      <td>431</td>\n",
       "      <td>Discover</td>\n",
       "      <td>bberry@wright.net</td>\n",
       "      <td>Set designer</td>\n",
       "      <td>174.173.51.32</td>\n",
       "      <td>de</td>\n",
       "      <td>67.96</td>\n",
       "    </tr>\n",
       "  </tbody>\n",
       "</table>\n",
       "</div>"
      ],
      "text/plain": [
       "                                                Address    Lot AM or PM  \\\n",
       "9992  885 Allen Mountains Apt. 230\\nWallhaven, LA 16995  40 vH       PM   \n",
       "\n",
       "                                           Browser Info    Company  \\\n",
       "9992  Mozilla/5.0 (Macintosh; PPC Mac OS X 10_6_5) A...  Wells Ltd   \n",
       "\n",
       "           Credit Card CC Exp Date  CC Security Code CC Provider  \\\n",
       "9992  4664825258997302       10/20               431    Discover   \n",
       "\n",
       "                  Email           Job     IP Address Language  Purchase Price  \n",
       "9992  bberry@wright.net  Set designer  174.173.51.32       de           67.96  "
      ]
     },
     "execution_count": 46,
     "metadata": {},
     "output_type": "execute_result"
    }
   ],
   "source": [
    "data[data[\"Credit Card\"] == 4664825258997302]  #it represent condition  \n",
    "# data[\"Credit Card\"] = 466482525899730   # it represent changing value of credit card columns"
   ]
  },
  {
   "cell_type": "code",
   "execution_count": 47,
   "id": "648304df",
   "metadata": {},
   "outputs": [
    {
     "data": {
      "text/plain": [
       "9992    bberry@wright.net\n",
       "Name: Email, dtype: object"
      ]
     },
     "execution_count": 47,
     "metadata": {},
     "output_type": "execute_result"
    }
   ],
   "source": [
    "data[data[\"Credit Card\"] == 4664825258997302][\"Email\"]"
   ]
  },
  {
   "cell_type": "code",
   "execution_count": 48,
   "id": "5b49153a",
   "metadata": {},
   "outputs": [
    {
     "data": {
      "text/plain": [
       "array(['PM', 'AM'], dtype=object)"
      ]
     },
     "execution_count": 48,
     "metadata": {},
     "output_type": "execute_result"
    }
   ],
   "source": [
    "data[\"AM or PM\"].unique()"
   ]
  },
  {
   "cell_type": "code",
   "execution_count": 49,
   "id": "6566e965",
   "metadata": {},
   "outputs": [
    {
     "data": {
      "text/plain": [
       "2"
      ]
     },
     "execution_count": 49,
     "metadata": {},
     "output_type": "execute_result"
    }
   ],
   "source": [
    "data[\"AM or PM\"].nunique()"
   ]
  },
  {
   "cell_type": "code",
   "execution_count": 50,
   "id": "bbebbbb1",
   "metadata": {},
   "outputs": [
    {
     "data": {
      "text/plain": [
       "PM    5068\n",
       "AM    4932\n",
       "Name: AM or PM, dtype: int64"
      ]
     },
     "execution_count": 50,
     "metadata": {},
     "output_type": "execute_result"
    }
   ],
   "source": [
    "data[\"AM or PM\"].value_counts()"
   ]
  },
  {
   "cell_type": "code",
   "execution_count": 56,
   "id": "ddb540d2",
   "metadata": {},
   "outputs": [
    {
     "data": {
      "text/plain": [
       "(array([5068.,    0.,    0.,    0.,    0.,    0.,    0.,    0.,    0.,\n",
       "        4932.]),\n",
       " array([0. , 0.1, 0.2, 0.3, 0.4, 0.5, 0.6, 0.7, 0.8, 0.9, 1. ]),\n",
       " <BarContainer object of 10 artists>)"
      ]
     },
     "execution_count": 56,
     "metadata": {},
     "output_type": "execute_result"
    },
    {
     "data": {
      "image/png": "[encoded data removed]",
      "text/plain": [
       "<Figure size 432x288 with 1 Axes>"
      ]
     },
     "metadata": {
      "needs_background": "light"
     },
     "output_type": "display_data"
    }
   ],
   "source": [
    "import matplotlib.pyplot as plt\n",
    "plt.hist(data['AM or PM'])"
   ]
  },
  {
   "cell_type": "code",
   "execution_count": 57,
   "id": "4ae0cf59",
   "metadata": {},
   "outputs": [
    {
     "data": {
      "text/plain": [
       "4932"
      ]
     },
     "execution_count": 57,
     "metadata": {},
     "output_type": "execute_result"
    }
   ],
   "source": [
    "(data[\"AM or PM\"] == \"AM\").sum()"
   ]
  },
  {
   "cell_type": "code",
   "execution_count": 58,
   "id": "780cf2d3",
   "metadata": {},
   "outputs": [
    {
     "data": {
      "text/plain": [
       "5068"
      ]
     },
     "execution_count": 58,
     "metadata": {},
     "output_type": "execute_result"
    }
   ],
   "source": [
    "(data[\"AM or PM\"] == \"PM\").sum()"
   ]
  },
  {
   "cell_type": "code",
   "execution_count": 59,
   "id": "a86aa0b1",
   "metadata": {},
   "outputs": [
    {
     "name": "stdout",
     "output_type": "stream",
     "text": [
      "PM 5068\n",
      "AM 4932\n"
     ]
    }
   ],
   "source": [
    "a = data[\"AM or PM\"].unique()\n",
    "for i in a:\n",
    "    b = (data[\"AM or PM\"] == i).sum()\n",
    "    print(i,b)\n",
    "    "
   ]
  },
  {
   "cell_type": "code",
   "execution_count": 60,
   "id": "a8da6acb",
   "metadata": {},
   "outputs": [
    {
     "data": {
      "text/plain": [
       "988"
      ]
     },
     "execution_count": 60,
     "metadata": {},
     "output_type": "execute_result"
    }
   ],
   "source": [
    "(data[\"CC Exp Date\"].str.contains(\"20\")).sum() "
   ]
  },
  {
   "cell_type": "code",
   "execution_count": 61,
   "id": "8f2feedd",
   "metadata": {},
   "outputs": [
    {
     "name": "stdout",
     "output_type": "stream",
     "text": [
      "988\n"
     ]
    }
   ],
   "source": [
    "def split1(a):\n",
    "    count = 0\n",
    "    for i in a:\n",
    "        b = i.split(\"/\")[1]\n",
    "        if b == \"20\":\n",
    "            count+=1\n",
    "    print(count)\n",
    "a = data[\"CC Exp Date\"]\n",
    "split1(a)"
   ]
  },
  {
   "cell_type": "code",
   "execution_count": 62,
   "id": "f43d8e88",
   "metadata": {},
   "outputs": [
    {
     "data": {
      "text/plain": [
       "0        True\n",
       "1       False\n",
       "2       False\n",
       "3       False\n",
       "4       False\n",
       "        ...  \n",
       "9995    False\n",
       "9996    False\n",
       "9997    False\n",
       "9998    False\n",
       "9999    False\n",
       "Name: CC Exp Date, Length: 10000, dtype: bool"
      ]
     },
     "execution_count": 62,
     "metadata": {},
     "output_type": "execute_result"
    }
   ],
   "source": [
    "data[\"CC Exp Date\"].apply(lambda x:x[3:]==\"20\")"
   ]
  },
  {
   "cell_type": "code",
   "execution_count": 63,
   "id": "5dde550f",
   "metadata": {},
   "outputs": [
    {
     "data": {
      "text/plain": [
       "0        True\n",
       "1       False\n",
       "2       False\n",
       "3       False\n",
       "4       False\n",
       "        ...  \n",
       "9995    False\n",
       "9996    False\n",
       "9997    False\n",
       "9998    False\n",
       "9999    False\n",
       "Name: CC Exp Date, Length: 10000, dtype: bool"
      ]
     },
     "execution_count": 63,
     "metadata": {},
     "output_type": "execute_result"
    }
   ],
   "source": [
    "data[\"CC Exp Date\"].apply(lambda x:x[3:]==\"20\")"
   ]
  },
  {
   "cell_type": "code",
   "execution_count": 64,
   "id": "2c4d7be5",
   "metadata": {},
   "outputs": [
    {
     "data": {
      "text/plain": [
       "988"
      ]
     },
     "execution_count": 64,
     "metadata": {},
     "output_type": "execute_result"
    }
   ],
   "source": [
    "data[\"CC Exp Date\"].apply(lambda x:x[3:]==\"20\").sum()"
   ]
  },
  {
   "cell_type": "code",
   "execution_count": 65,
   "id": "f80092b1",
   "metadata": {},
   "outputs": [
    {
     "data": {
      "text/plain": [
       "988"
      ]
     },
     "execution_count": 65,
     "metadata": {},
     "output_type": "execute_result"
    }
   ],
   "source": [
    "len(data[data[\"CC Exp Date\"].apply(lambda x:x[3:]==\"20\")])"
   ]
  },
  {
   "cell_type": "code",
   "execution_count": 66,
   "id": "7fcbcd72",
   "metadata": {},
   "outputs": [],
   "source": [
    "a = []\n",
    "for i in data[\"Email\"]:   # if i goes in series it only pic value\n",
    "    a.append(i.split(\"@\")[1])\n",
    "data[\"new\"] = a   # we can give a list to column"
   ]
  },
  {
   "cell_type": "code",
   "execution_count": 67,
   "id": "d18a5683",
   "metadata": {},
   "outputs": [
    {
     "data": {
      "text/html": [
       "<div>\n",
       "<style scoped>\n",
       "    .dataframe tbody tr th:only-of-type {\n",
       "        vertical-align: middle;\n",
       "    }\n",
       "\n",
       "    .dataframe tbody tr th {\n",
       "        vertical-align: top;\n",
       "    }\n",
       "\n",
       "    .dataframe thead th {\n",
       "        text-align: right;\n",
       "    }\n",
       "</style>\n",
       "<table border=\"1\" class=\"dataframe\">\n",
       "  <thead>\n",
       "    <tr style=\"text-align: right;\">\n",
       "      <th></th>\n",
       "      <th>Address</th>\n",
       "      <th>Lot</th>\n",
       "      <th>AM or PM</th>\n",
       "      <th>Browser Info</th>\n",
       "      <th>Company</th>\n",
       "      <th>Credit Card</th>\n",
       "      <th>CC Exp Date</th>\n",
       "      <th>CC Security Code</th>\n",
       "      <th>CC Provider</th>\n",
       "      <th>Email</th>\n",
       "      <th>Job</th>\n",
       "      <th>IP Address</th>\n",
       "      <th>Language</th>\n",
       "      <th>Purchase Price</th>\n",
       "      <th>new</th>\n",
       "    </tr>\n",
       "  </thead>\n",
       "  <tbody>\n",
       "    <tr>\n",
       "      <th>0</th>\n",
       "      <td>16629 Pace Camp Apt. 448\\nAlexisborough, NE 77...</td>\n",
       "      <td>46 in</td>\n",
       "      <td>PM</td>\n",
       "      <td>Opera/9.56.(X11; Linux x86_64; sl-SI) Presto/2...</td>\n",
       "      <td>Martinez-Herman</td>\n",
       "      <td>6011929061123406</td>\n",
       "      <td>02/20</td>\n",
       "      <td>900</td>\n",
       "      <td>JCB 16 digit</td>\n",
       "      <td>pdunlap@yahoo.com</td>\n",
       "      <td>Scientist, product/process development</td>\n",
       "      <td>149.146.147.205</td>\n",
       "      <td>el</td>\n",
       "      <td>98.14</td>\n",
       "      <td>yahoo.com</td>\n",
       "    </tr>\n",
       "  </tbody>\n",
       "</table>\n",
       "</div>"
      ],
      "text/plain": [
       "                                             Address    Lot AM or PM  \\\n",
       "0  16629 Pace Camp Apt. 448\\nAlexisborough, NE 77...  46 in       PM   \n",
       "\n",
       "                                        Browser Info          Company  \\\n",
       "0  Opera/9.56.(X11; Linux x86_64; sl-SI) Presto/2...  Martinez-Herman   \n",
       "\n",
       "        Credit Card CC Exp Date  CC Security Code   CC Provider  \\\n",
       "0  6011929061123406       02/20               900  JCB 16 digit   \n",
       "\n",
       "               Email                                     Job       IP Address  \\\n",
       "0  pdunlap@yahoo.com  Scientist, product/process development  149.146.147.205   \n",
       "\n",
       "  Language  Purchase Price        new  \n",
       "0       el           98.14  yahoo.com  "
      ]
     },
     "execution_count": 67,
     "metadata": {},
     "output_type": "execute_result"
    }
   ],
   "source": [
    "data.head(1)"
   ]
  },
  {
   "cell_type": "code",
   "execution_count": 68,
   "id": "574e3f63",
   "metadata": {},
   "outputs": [
    {
     "data": {
      "text/plain": [
       "hotmail.com     1638\n",
       "yahoo.com       1616\n",
       "gmail.com       1605\n",
       "smith.com         42\n",
       "williams.com      37\n",
       "Name: new, dtype: int64"
      ]
     },
     "execution_count": 68,
     "metadata": {},
     "output_type": "execute_result"
    }
   ],
   "source": [
    "data[\"new\"].value_counts().head()"
   ]
  },
  {
   "cell_type": "code",
   "execution_count": null,
   "id": "f9f554ab",
   "metadata": {},
   "outputs": [],
   "source": [
    "data[\"Email\"].apply(lambda x : x.split(\"@\")[1])"
   ]
  },
  {
   "cell_type": "code",
   "execution_count": null,
   "id": "b61724b5",
   "metadata": {},
   "outputs": [],
   "source": [
    "data[\"Email\"].apply(lambda x : x.split(\"@\")[1]).value_counts().head()  # value_counts apply on series"
   ]
  },
  {
   "cell_type": "code",
   "execution_count": null,
   "id": "e31e45aa",
   "metadata": {},
   "outputs": [],
   "source": []
  },
  {
   "cell_type": "code",
   "execution_count": 71,
   "id": "8a573f94",
   "metadata": {},
   "outputs": [
    {
     "data": {
      "text/html": [
       "<div>\n",
       "<style scoped>\n",
       "    .dataframe tbody tr th:only-of-type {\n",
       "        vertical-align: middle;\n",
       "    }\n",
       "\n",
       "    .dataframe tbody tr th {\n",
       "        vertical-align: top;\n",
       "    }\n",
       "\n",
       "    .dataframe thead th {\n",
       "        text-align: right;\n",
       "    }\n",
       "</style>\n",
       "<table border=\"1\" class=\"dataframe\">\n",
       "  <thead>\n",
       "    <tr style=\"text-align: right;\">\n",
       "      <th></th>\n",
       "      <th>App</th>\n",
       "      <th>Category</th>\n",
       "      <th>Rating</th>\n",
       "      <th>Reviews</th>\n",
       "      <th>Size</th>\n",
       "      <th>Installs</th>\n",
       "      <th>Type</th>\n",
       "      <th>Price</th>\n",
       "      <th>Content Rating</th>\n",
       "      <th>Genres</th>\n",
       "      <th>Last Updated</th>\n",
       "      <th>Current Ver</th>\n",
       "      <th>Android Ver</th>\n",
       "    </tr>\n",
       "  </thead>\n",
       "  <tbody>\n",
       "    <tr>\n",
       "      <th>0</th>\n",
       "      <td>Photo Editor &amp; Candy Camera &amp; Grid &amp; ScrapBook</td>\n",
       "      <td>ART_AND_DESIGN</td>\n",
       "      <td>4.1</td>\n",
       "      <td>159</td>\n",
       "      <td>19M</td>\n",
       "      <td>10,000+</td>\n",
       "      <td>Free</td>\n",
       "      <td>0</td>\n",
       "      <td>Everyone</td>\n",
       "      <td>Art &amp; Design</td>\n",
       "      <td>January 7, 2018</td>\n",
       "      <td>1.0.0</td>\n",
       "      <td>4.0.3 and up</td>\n",
       "    </tr>\n",
       "    <tr>\n",
       "      <th>1</th>\n",
       "      <td>Coloring book moana</td>\n",
       "      <td>ART_AND_DESIGN</td>\n",
       "      <td>3.9</td>\n",
       "      <td>967</td>\n",
       "      <td>14M</td>\n",
       "      <td>500,000+</td>\n",
       "      <td>Free</td>\n",
       "      <td>0</td>\n",
       "      <td>Everyone</td>\n",
       "      <td>Art &amp; Design;Pretend Play</td>\n",
       "      <td>January 15, 2018</td>\n",
       "      <td>2.0.0</td>\n",
       "      <td>4.0.3 and up</td>\n",
       "    </tr>\n",
       "  </tbody>\n",
       "</table>\n",
       "</div>"
      ],
      "text/plain": [
       "                                              App        Category  Rating  \\\n",
       "0  Photo Editor & Candy Camera & Grid & ScrapBook  ART_AND_DESIGN     4.1   \n",
       "1                             Coloring book moana  ART_AND_DESIGN     3.9   \n",
       "\n",
       "  Reviews Size  Installs  Type Price Content Rating  \\\n",
       "0     159  19M   10,000+  Free     0       Everyone   \n",
       "1     967  14M  500,000+  Free     0       Everyone   \n",
       "\n",
       "                      Genres      Last Updated Current Ver   Android Ver  \n",
       "0               Art & Design   January 7, 2018       1.0.0  4.0.3 and up  \n",
       "1  Art & Design;Pretend Play  January 15, 2018       2.0.0  4.0.3 and up  "
      ]
     },
     "execution_count": 71,
     "metadata": {},
     "output_type": "execute_result"
    }
   ],
   "source": [
    "df = pd.read_csv(\"googleplaystore.csv\")\n",
    "df.head(2)"
   ]
  },
  {
   "cell_type": "code",
   "execution_count": 82,
   "id": "df4d663e",
   "metadata": {},
   "outputs": [],
   "source": [
    "df[\"Installs\"] = df[\"Installs\"].str.replace(\",\",\"\")"
   ]
  },
  {
   "cell_type": "code",
   "execution_count": 84,
   "id": "adfca579",
   "metadata": {},
   "outputs": [],
   "source": [
    "df[\"Installs1\"]= df[\"Installs\"].str.replace(\",\",\"\")"
   ]
  },
  {
   "cell_type": "code",
   "execution_count": 83,
   "id": "95bf4aa4",
   "metadata": {},
   "outputs": [
    {
     "data": {
      "text/plain": [
       "0           10000+\n",
       "1          500000+\n",
       "2         5000000+\n",
       "3        50000000+\n",
       "4          100000+\n",
       "           ...    \n",
       "10836        5000+\n",
       "10837         100+\n",
       "10838        1000+\n",
       "10839        1000+\n",
       "10840    10000000+\n",
       "Name: Installs, Length: 10841, dtype: object"
      ]
     },
     "execution_count": 83,
     "metadata": {},
     "output_type": "execute_result"
    }
   ],
   "source": [
    "df[\"Installs1\"]"
   ]
  },
  {
   "cell_type": "code",
   "execution_count": null,
   "id": "b87c2941",
   "metadata": {},
   "outputs": [],
   "source": []
  }
 ],
 "metadata": {
  "kernelspec": {
   "display_name": "Python 3 (ipykernel)",
   "language": "python",
   "name": "python3"
  },
  "language_info": {
   "codemirror_mode": {
    "name": "ipython",
    "version": 3
   },
   "file_extension": ".py",
   "mimetype": "text/x-python",
   "name": "python",
   "nbconvert_exporter": "python",
   "pygments_lexer": "ipython3",
   "version": "3.9.7"
  }
 },
 "nbformat": 4,
 "nbformat_minor": 5
}
