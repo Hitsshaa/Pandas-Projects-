{
 "cells": [
  {
   "cell_type": "code",
   "execution_count": 49,
   "id": "86381858",
   "metadata": {},
   "outputs": [],
   "source": [
    "import pandas as pd \n",
    "import matplotlib.pyplot as plt\n",
    "import seaborn as sns\n",
    "import numpy as np"
   ]
  },
  {
   "cell_type": "code",
   "execution_count": 50,
   "id": "3cc34f26",
   "metadata": {},
   "outputs": [
    {
     "data": {
      "text/html": [
       "<div>\n",
       "<style scoped>\n",
       "    .dataframe tbody tr th:only-of-type {\n",
       "        vertical-align: middle;\n",
       "    }\n",
       "\n",
       "    .dataframe tbody tr th {\n",
       "        vertical-align: top;\n",
       "    }\n",
       "\n",
       "    .dataframe thead th {\n",
       "        text-align: right;\n",
       "    }\n",
       "</style>\n",
       "<table border=\"1\" class=\"dataframe\">\n",
       "  <thead>\n",
       "    <tr style=\"text-align: right;\">\n",
       "      <th></th>\n",
       "      <th>Rank</th>\n",
       "      <th>Grade</th>\n",
       "      <th>Channel name</th>\n",
       "      <th>Video Uploads</th>\n",
       "      <th>Subscribers</th>\n",
       "      <th>Video views</th>\n",
       "    </tr>\n",
       "  </thead>\n",
       "  <tbody>\n",
       "    <tr>\n",
       "      <th>0</th>\n",
       "      <td>1st</td>\n",
       "      <td>A++</td>\n",
       "      <td>Zee TV</td>\n",
       "      <td>82757</td>\n",
       "      <td>18752951</td>\n",
       "      <td>20869786591</td>\n",
       "    </tr>\n",
       "    <tr>\n",
       "      <th>1</th>\n",
       "      <td>2nd</td>\n",
       "      <td>A++</td>\n",
       "      <td>T-Series</td>\n",
       "      <td>12661</td>\n",
       "      <td>61196302</td>\n",
       "      <td>47548839843</td>\n",
       "    </tr>\n",
       "    <tr>\n",
       "      <th>2</th>\n",
       "      <td>3rd</td>\n",
       "      <td>A++</td>\n",
       "      <td>Cocomelon - Nursery Rhymes</td>\n",
       "      <td>373</td>\n",
       "      <td>19238251</td>\n",
       "      <td>9793305082</td>\n",
       "    </tr>\n",
       "    <tr>\n",
       "      <th>3</th>\n",
       "      <td>4th</td>\n",
       "      <td>A++</td>\n",
       "      <td>SET India</td>\n",
       "      <td>27323</td>\n",
       "      <td>31180559</td>\n",
       "      <td>22675948293</td>\n",
       "    </tr>\n",
       "    <tr>\n",
       "      <th>4</th>\n",
       "      <td>5th</td>\n",
       "      <td>A++</td>\n",
       "      <td>WWE</td>\n",
       "      <td>36756</td>\n",
       "      <td>32852346</td>\n",
       "      <td>26273668433</td>\n",
       "    </tr>\n",
       "  </tbody>\n",
       "</table>\n",
       "</div>"
      ],
      "text/plain": [
       "  Rank Grade                Channel name Video Uploads Subscribers  \\\n",
       "0  1st  A++                       Zee TV         82757    18752951   \n",
       "1  2nd  A++                     T-Series         12661    61196302   \n",
       "2  3rd  A++   Cocomelon - Nursery Rhymes           373    19238251   \n",
       "3  4th  A++                    SET India         27323    31180559   \n",
       "4  5th  A++                          WWE         36756    32852346   \n",
       "\n",
       "   Video views  \n",
       "0  20869786591  \n",
       "1  47548839843  \n",
       "2   9793305082  \n",
       "3  22675948293  \n",
       "4  26273668433  "
      ]
     },
     "execution_count": 50,
     "metadata": {},
     "output_type": "execute_result"
    }
   ],
   "source": [
    "df = pd.read_csv(\"top-5000-youtube-channels.csv\")\n",
    "df.head()"
   ]
  },
  {
   "cell_type": "code",
   "execution_count": 3,
   "id": "57ae59cf",
   "metadata": {},
   "outputs": [],
   "source": [
    "# df.head()\n",
    "# df.tail()\n",
    "# df.shape\n",
    "# df.dtype\n",
    "# df.columns\n",
    "# df.info()\n",
    "# df.describe(include = all)"
   ]
  },
  {
   "cell_type": "code",
   "execution_count": 4,
   "id": "c380c964",
   "metadata": {},
   "outputs": [
    {
     "data": {
      "text/html": [
       "<div>\n",
       "<style scoped>\n",
       "    .dataframe tbody tr th:only-of-type {\n",
       "        vertical-align: middle;\n",
       "    }\n",
       "\n",
       "    .dataframe tbody tr th {\n",
       "        vertical-align: top;\n",
       "    }\n",
       "\n",
       "    .dataframe thead th {\n",
       "        text-align: right;\n",
       "    }\n",
       "</style>\n",
       "<table border=\"1\" class=\"dataframe\">\n",
       "  <thead>\n",
       "    <tr style=\"text-align: right;\">\n",
       "      <th></th>\n",
       "      <th>Rank</th>\n",
       "      <th>Grade</th>\n",
       "      <th>Channel name</th>\n",
       "      <th>Video Uploads</th>\n",
       "      <th>Subscribers</th>\n",
       "      <th>Video views</th>\n",
       "    </tr>\n",
       "  </thead>\n",
       "  <tbody>\n",
       "    <tr>\n",
       "      <th>0</th>\n",
       "      <td>1st</td>\n",
       "      <td>A++</td>\n",
       "      <td>Zee TV</td>\n",
       "      <td>82757</td>\n",
       "      <td>18752951</td>\n",
       "      <td>20869786591</td>\n",
       "    </tr>\n",
       "    <tr>\n",
       "      <th>1</th>\n",
       "      <td>2nd</td>\n",
       "      <td>A++</td>\n",
       "      <td>T-Series</td>\n",
       "      <td>12661</td>\n",
       "      <td>61196302</td>\n",
       "      <td>47548839843</td>\n",
       "    </tr>\n",
       "    <tr>\n",
       "      <th>2</th>\n",
       "      <td>3rd</td>\n",
       "      <td>A++</td>\n",
       "      <td>Cocomelon - Nursery Rhymes</td>\n",
       "      <td>373</td>\n",
       "      <td>19238251</td>\n",
       "      <td>9793305082</td>\n",
       "    </tr>\n",
       "    <tr>\n",
       "      <th>3</th>\n",
       "      <td>4th</td>\n",
       "      <td>A++</td>\n",
       "      <td>SET India</td>\n",
       "      <td>27323</td>\n",
       "      <td>31180559</td>\n",
       "      <td>22675948293</td>\n",
       "    </tr>\n",
       "    <tr>\n",
       "      <th>4</th>\n",
       "      <td>5th</td>\n",
       "      <td>A++</td>\n",
       "      <td>WWE</td>\n",
       "      <td>36756</td>\n",
       "      <td>32852346</td>\n",
       "      <td>26273668433</td>\n",
       "    </tr>\n",
       "    <tr>\n",
       "      <th>5</th>\n",
       "      <td>6th</td>\n",
       "      <td>A++</td>\n",
       "      <td>Movieclips</td>\n",
       "      <td>30243</td>\n",
       "      <td>17149705</td>\n",
       "      <td>16618094724</td>\n",
       "    </tr>\n",
       "    <tr>\n",
       "      <th>6</th>\n",
       "      <td>7th</td>\n",
       "      <td>A++</td>\n",
       "      <td>netd müzik</td>\n",
       "      <td>8500</td>\n",
       "      <td>11373567</td>\n",
       "      <td>23898730764</td>\n",
       "    </tr>\n",
       "    <tr>\n",
       "      <th>7</th>\n",
       "      <td>8th</td>\n",
       "      <td>A++</td>\n",
       "      <td>ABS-CBN Entertainment</td>\n",
       "      <td>100147</td>\n",
       "      <td>12149206</td>\n",
       "      <td>17202609850</td>\n",
       "    </tr>\n",
       "    <tr>\n",
       "      <th>8</th>\n",
       "      <td>9th</td>\n",
       "      <td>A++</td>\n",
       "      <td>Ryan ToysReview</td>\n",
       "      <td>1140</td>\n",
       "      <td>16082927</td>\n",
       "      <td>24518098041</td>\n",
       "    </tr>\n",
       "    <tr>\n",
       "      <th>9</th>\n",
       "      <td>10th</td>\n",
       "      <td>A++</td>\n",
       "      <td>Zee Marathi</td>\n",
       "      <td>74607</td>\n",
       "      <td>2841811</td>\n",
       "      <td>2591830307</td>\n",
       "    </tr>\n",
       "    <tr>\n",
       "      <th>10</th>\n",
       "      <td>11th</td>\n",
       "      <td>A+</td>\n",
       "      <td>5-Minute Crafts</td>\n",
       "      <td>2085</td>\n",
       "      <td>33492951</td>\n",
       "      <td>8587520379</td>\n",
       "    </tr>\n",
       "    <tr>\n",
       "      <th>11</th>\n",
       "      <td>12th</td>\n",
       "      <td>A+</td>\n",
       "      <td>Canal KondZilla</td>\n",
       "      <td>822</td>\n",
       "      <td>39409726</td>\n",
       "      <td>19291034467</td>\n",
       "    </tr>\n",
       "    <tr>\n",
       "      <th>12</th>\n",
       "      <td>13th</td>\n",
       "      <td>A+</td>\n",
       "      <td>Like Nastya Vlog</td>\n",
       "      <td>150</td>\n",
       "      <td>7662886</td>\n",
       "      <td>2540099931</td>\n",
       "    </tr>\n",
       "    <tr>\n",
       "      <th>13</th>\n",
       "      <td>14th</td>\n",
       "      <td>A+</td>\n",
       "      <td>Ozuna</td>\n",
       "      <td>50</td>\n",
       "      <td>18824912</td>\n",
       "      <td>8727783225</td>\n",
       "    </tr>\n",
       "    <tr>\n",
       "      <th>14</th>\n",
       "      <td>15th</td>\n",
       "      <td>A+</td>\n",
       "      <td>Wave Music</td>\n",
       "      <td>16119</td>\n",
       "      <td>15899764</td>\n",
       "      <td>10989179147</td>\n",
       "    </tr>\n",
       "    <tr>\n",
       "      <th>15</th>\n",
       "      <td>16th</td>\n",
       "      <td>A+</td>\n",
       "      <td>Ch3Thailand</td>\n",
       "      <td>49239</td>\n",
       "      <td>11569723</td>\n",
       "      <td>9388600275</td>\n",
       "    </tr>\n",
       "    <tr>\n",
       "      <th>16</th>\n",
       "      <td>17th</td>\n",
       "      <td>A+</td>\n",
       "      <td>WORLDSTARHIPHOP</td>\n",
       "      <td>4778</td>\n",
       "      <td>15830098</td>\n",
       "      <td>11102158475</td>\n",
       "    </tr>\n",
       "    <tr>\n",
       "      <th>17</th>\n",
       "      <td>18th</td>\n",
       "      <td>A+</td>\n",
       "      <td>Vlad and Nikita</td>\n",
       "      <td>53</td>\n",
       "      <td>--</td>\n",
       "      <td>1428274554</td>\n",
       "    </tr>\n",
       "    <tr>\n",
       "      <th>18</th>\n",
       "      <td>19th</td>\n",
       "      <td>A+</td>\n",
       "      <td>Badabun</td>\n",
       "      <td>3060</td>\n",
       "      <td>23603062</td>\n",
       "      <td>5860444053</td>\n",
       "    </tr>\n",
       "    <tr>\n",
       "      <th>19</th>\n",
       "      <td>20th</td>\n",
       "      <td>A+</td>\n",
       "      <td>WorkpointOfficial</td>\n",
       "      <td>24287</td>\n",
       "      <td>17687229</td>\n",
       "      <td>14022189654</td>\n",
       "    </tr>\n",
       "  </tbody>\n",
       "</table>\n",
       "</div>"
      ],
      "text/plain": [
       "    Rank Grade                Channel name Video Uploads Subscribers  \\\n",
       "0    1st  A++                       Zee TV         82757    18752951   \n",
       "1    2nd  A++                     T-Series         12661    61196302   \n",
       "2    3rd  A++   Cocomelon - Nursery Rhymes           373    19238251   \n",
       "3    4th  A++                    SET India         27323    31180559   \n",
       "4    5th  A++                          WWE         36756    32852346   \n",
       "5    6th  A++                   Movieclips         30243    17149705   \n",
       "6    7th  A++                   netd müzik          8500    11373567   \n",
       "7    8th  A++        ABS-CBN Entertainment        100147    12149206   \n",
       "8    9th  A++              Ryan ToysReview          1140    16082927   \n",
       "9   10th  A++                  Zee Marathi         74607     2841811   \n",
       "10  11th   A+              5-Minute Crafts          2085    33492951   \n",
       "11  12th   A+              Canal KondZilla           822    39409726   \n",
       "12  13th   A+             Like Nastya Vlog           150     7662886   \n",
       "13  14th   A+                        Ozuna            50    18824912   \n",
       "14  15th   A+                   Wave Music         16119    15899764   \n",
       "15  16th   A+                  Ch3Thailand         49239    11569723   \n",
       "16  17th   A+              WORLDSTARHIPHOP          4778    15830098   \n",
       "17  18th   A+              Vlad and Nikita            53         --    \n",
       "18  19th   A+                      Badabun          3060    23603062   \n",
       "19  20th   A+            WorkpointOfficial         24287    17687229   \n",
       "\n",
       "    Video views  \n",
       "0   20869786591  \n",
       "1   47548839843  \n",
       "2    9793305082  \n",
       "3   22675948293  \n",
       "4   26273668433  \n",
       "5   16618094724  \n",
       "6   23898730764  \n",
       "7   17202609850  \n",
       "8   24518098041  \n",
       "9    2591830307  \n",
       "10   8587520379  \n",
       "11  19291034467  \n",
       "12   2540099931  \n",
       "13   8727783225  \n",
       "14  10989179147  \n",
       "15   9388600275  \n",
       "16  11102158475  \n",
       "17   1428274554  \n",
       "18   5860444053  \n",
       "19  14022189654  "
      ]
     },
     "execution_count": 4,
     "metadata": {},
     "output_type": "execute_result"
    }
   ],
   "source": [
    "df.head(20)"
   ]
  },
  {
   "cell_type": "code",
   "execution_count": 51,
   "id": "915e332d",
   "metadata": {},
   "outputs": [],
   "source": [
    "df.replace(\"--\",np.nan,inplace = True,regex=True)"
   ]
  },
  {
   "cell_type": "code",
   "execution_count": 52,
   "id": "c00ecbd9",
   "metadata": {},
   "outputs": [
    {
     "data": {
      "text/plain": [
       "Rank               0\n",
       "Grade              0\n",
       "Channel name       0\n",
       "Video Uploads      6\n",
       "Subscribers      387\n",
       "Video views        0\n",
       "dtype: int64"
      ]
     },
     "execution_count": 52,
     "metadata": {},
     "output_type": "execute_result"
    }
   ],
   "source": [
    "df.isnull().sum()"
   ]
  },
  {
   "cell_type": "code",
   "execution_count": 53,
   "id": "c87bc677",
   "metadata": {},
   "outputs": [
    {
     "data": {
      "text/plain": [
       "<AxesSubplot:>"
      ]
     },
     "execution_count": 53,
     "metadata": {},
     "output_type": "execute_result"
    },
    {
     "data": {
      "image/png": "[encoded data removed]",
      "text/plain": [
       "<Figure size 432x288 with 2 Axes>"
      ]
     },
     "metadata": {
      "needs_background": "light"
     },
     "output_type": "display_data"
    }
   ],
   "source": [
    "sns.heatmap(df.isnull())"
   ]
  },
  {
   "cell_type": "code",
   "execution_count": 54,
   "id": "d62255a9",
   "metadata": {},
   "outputs": [],
   "source": [
    "df.dropna(axis=0,inplace = True)"
   ]
  },
  {
   "cell_type": "code",
   "execution_count": 55,
   "id": "c5a0ecba",
   "metadata": {},
   "outputs": [
    {
     "data": {
      "text/plain": [
       "Rank             0\n",
       "Grade            0\n",
       "Channel name     0\n",
       "Video Uploads    0\n",
       "Subscribers      0\n",
       "Video views      0\n",
       "dtype: int64"
      ]
     },
     "execution_count": 55,
     "metadata": {},
     "output_type": "execute_result"
    }
   ],
   "source": [
    "df.isnull().sum()"
   ]
  },
  {
   "cell_type": "code",
   "execution_count": 10,
   "id": "28883840",
   "metadata": {},
   "outputs": [
    {
     "ename": "SyntaxError",
     "evalue": "invalid syntax (Temp/ipykernel_12488/3456177857.py, line 1)",
     "output_type": "error",
     "traceback": [
      "\u001b[1;36m  File \u001b[1;32m\"C:\\Users\\LENOVO\\AppData\\Local\\Temp/ipykernel_12488/3456177857.py\"\u001b[1;36m, line \u001b[1;32m1\u001b[0m\n\u001b[1;33m    we have to clean rank columns the string value\u001b[0m\n\u001b[1;37m       ^\u001b[0m\n\u001b[1;31mSyntaxError\u001b[0m\u001b[1;31m:\u001b[0m invalid syntax\n"
     ]
    }
   ],
   "source": [
    "# we have to clean rank columns the string value"
   ]
  },
  {
   "cell_type": "code",
   "execution_count": null,
   "id": "8060ba88",
   "metadata": {},
   "outputs": [],
   "source": [
    "list1 = []          # by python method\n",
    "for x in df[\"Rank\"]:\n",
    "    x = x[0:-2]\n",
    "    list1.append(x)\n",
    "df[\"Rank\"] = list1"
   ]
  },
  {
   "cell_type": "code",
   "execution_count": null,
   "id": "d9d81f6b",
   "metadata": {},
   "outputs": [],
   "source": [
    "# df[\"Rank\"]"
   ]
  },
  {
   "cell_type": "code",
   "execution_count": null,
   "id": "75bdd884",
   "metadata": {},
   "outputs": [],
   "source": [
    "# df[\"Rank\"] =df[\"Rank\"].str[0:-2]   # by pandas method "
   ]
  },
  {
   "cell_type": "code",
   "execution_count": null,
   "id": "c844118f",
   "metadata": {},
   "outputs": [],
   "source": [
    "# df[\"Rank\"]"
   ]
  },
  {
   "cell_type": "code",
   "execution_count": null,
   "id": "ff544298",
   "metadata": {},
   "outputs": [],
   "source": [
    "df.head(20)"
   ]
  },
  {
   "cell_type": "code",
   "execution_count": null,
   "id": "03230582",
   "metadata": {},
   "outputs": [],
   "source": [
    "df[\"Rank\"].replace(\",\",'',inplace = True, regex = True)"
   ]
  },
  {
   "cell_type": "code",
   "execution_count": null,
   "id": "ff4795f1",
   "metadata": {},
   "outputs": [],
   "source": [
    "df[\"Rank\"].tail()"
   ]
  },
  {
   "cell_type": "code",
   "execution_count": null,
   "id": "2ef53ff4",
   "metadata": {},
   "outputs": [],
   "source": [
    "df[\"Rank\"].dtypes"
   ]
  },
  {
   "cell_type": "code",
   "execution_count": null,
   "id": "cad2a490",
   "metadata": {},
   "outputs": [],
   "source": [
    "df[\"Rank\"].astype(\"float\")"
   ]
  },
  {
   "cell_type": "code",
   "execution_count": null,
   "id": "f8a50015",
   "metadata": {},
   "outputs": [],
   "source": [
    "print(type(np.nan))"
   ]
  },
  {
   "cell_type": "code",
   "execution_count": null,
   "id": "dcfd0d4a",
   "metadata": {},
   "outputs": [],
   "source": [
    "now we clean Video Uploads and Subscribers"
   ]
  },
  {
   "cell_type": "code",
   "execution_count": 57,
   "id": "2f0f9e6c",
   "metadata": {},
   "outputs": [
    {
     "data": {
      "text/plain": [
       "dtype('O')"
      ]
     },
     "execution_count": 57,
     "metadata": {},
     "output_type": "execute_result"
    }
   ],
   "source": [
    "df[\"Video Uploads\"].dtypes"
   ]
  },
  {
   "cell_type": "code",
   "execution_count": 58,
   "id": "1e730b45",
   "metadata": {},
   "outputs": [
    {
     "data": {
      "text/plain": [
       "array(['82757', '12661', '373', ..., '1735', '706', '3475'], dtype=object)"
      ]
     },
     "execution_count": 58,
     "metadata": {},
     "output_type": "execute_result"
    }
   ],
   "source": [
    "df[\"Video Uploads\"].unique()"
   ]
  },
  {
   "cell_type": "code",
   "execution_count": 59,
   "id": "b1de07e8",
   "metadata": {},
   "outputs": [],
   "source": [
    "df[\"Video Uploads\"].replace(\"--\",np.nan,regex=True,inplace =True)"
   ]
  },
  {
   "cell_type": "code",
   "execution_count": 60,
   "id": "2720e8c4",
   "metadata": {},
   "outputs": [],
   "source": [
    "df[\"Video Uploads\"].replace('',np.nan,regex=True,inplace =True)"
   ]
  },
  {
   "cell_type": "code",
   "execution_count": 61,
   "id": "a7b87ad5",
   "metadata": {},
   "outputs": [],
   "source": [
    "df[\"Video Uploads\"] = df[\"Video Uploads\"].astype(\"float\")"
   ]
  },
  {
   "cell_type": "code",
   "execution_count": 62,
   "id": "e758eb2a",
   "metadata": {},
   "outputs": [
    {
     "data": {
      "text/plain": [
       "dtype('float64')"
      ]
     },
     "execution_count": 62,
     "metadata": {},
     "output_type": "execute_result"
    }
   ],
   "source": [
    "df[\"Video Uploads\"].dtypes"
   ]
  },
  {
   "cell_type": "code",
   "execution_count": 28,
   "id": "624277ef",
   "metadata": {},
   "outputs": [
    {
     "data": {
      "text/plain": [
       "array(['18752951', '61196302', '19238251', ..., '3265735', '32990',\n",
       "       '21172'], dtype=object)"
      ]
     },
     "execution_count": 28,
     "metadata": {},
     "output_type": "execute_result"
    }
   ],
   "source": [
    "df[\"Subscribers\"].unique()"
   ]
  },
  {
   "cell_type": "code",
   "execution_count": 69,
   "id": "69e4d3f1",
   "metadata": {},
   "outputs": [],
   "source": [
    "df[\"Subscribers\"] = df[\"Subscribers\"].astype(\"float\")"
   ]
  },
  {
   "cell_type": "code",
   "execution_count": 70,
   "id": "acc2d0b6",
   "metadata": {},
   "outputs": [],
   "source": [
    "df[\"Subscribers\"].replace(\"--\",np.nan,regex=True,inplace =True)"
   ]
  },
  {
   "cell_type": "code",
   "execution_count": 71,
   "id": "2f8860b3",
   "metadata": {},
   "outputs": [],
   "source": [
    "df[\"Subscribers\"] = df[\"Subscribers\"].astype(\"float\")"
   ]
  },
  {
   "cell_type": "code",
   "execution_count": 72,
   "id": "e075c9cb",
   "metadata": {},
   "outputs": [
    {
     "data": {
      "text/plain": [
       "dtype('float64')"
      ]
     },
     "execution_count": 72,
     "metadata": {},
     "output_type": "execute_result"
    }
   ],
   "source": [
    "df[\"Subscribers\"].dtypes"
   ]
  },
  {
   "cell_type": "code",
   "execution_count": null,
   "id": "589e374c",
   "metadata": {},
   "outputs": [],
   "source": [
    "df[\"Grade\"].unique()"
   ]
  },
  {
   "cell_type": "code",
   "execution_count": null,
   "id": "dd95045c",
   "metadata": {},
   "outputs": [],
   "source": [
    "# now convert this grade into numeric values"
   ]
  },
  {
   "cell_type": "code",
   "execution_count": null,
   "id": "7bc14f8b",
   "metadata": {},
   "outputs": [],
   "source": [
    "df[\"Grade\"] =df[\"Grade\"].map({'A++ ':5,\"A+ \":4,\"A \":3,\"A- \":2,\"B+ \":1 ,'\\xa0 ':0})"
   ]
  },
  {
   "cell_type": "code",
   "execution_count": 11,
   "id": "a4ed62f2",
   "metadata": {
    "scrolled": true
   },
   "outputs": [
    {
     "data": {
      "text/plain": [
       "Channel name\n",
       "#Desenhos Kids BR               8.404115e+07\n",
       "#FIRST WINGS FILM PRODUCTION    1.267895e+07\n",
       "#Mentale Zuflucht               3.634114e+08\n",
       "#Mind Warehouse                 1.337877e+09\n",
       "#Refugio Mental                 1.262197e+09\n",
       "                                    ...     \n",
       "핑크퐁 (인기 동요・동화)                  1.595353e+09\n",
       "허팝Heopop                        1.690027e+09\n",
       "헤이지니 Hey Jini                   4.550237e+08\n",
       "헬로카봇 - hello carbot…            3.291915e+08\n",
       "흔한남매                            1.196532e+08\n",
       "Name: Video views, Length: 4604, dtype: float64"
      ]
     },
     "execution_count": 11,
     "metadata": {},
     "output_type": "execute_result"
    }
   ],
   "source": [
    "df.groupby(\"Channel name\")[\"Video views\"].mean()"
   ]
  },
  {
   "cell_type": "code",
   "execution_count": 20,
   "id": "b724e471",
   "metadata": {},
   "outputs": [
    {
     "name": "stdout",
     "output_type": "stream",
     "text": [
      "<class 'pandas.core.series.Series'>\n"
     ]
    }
   ],
   "source": [
    "print(type(df.groupby(\"Channel name\")[\"Video views\"].mean()))"
   ]
  },
  {
   "cell_type": "code",
   "execution_count": 22,
   "id": "2b9ab338",
   "metadata": {},
   "outputs": [
    {
     "data": {
      "text/plain": [
       "array(['82757', '12661', '373', ..., '1735', '706', '3475'], dtype=object)"
      ]
     },
     "execution_count": 22,
     "metadata": {},
     "output_type": "execute_result"
    }
   ],
   "source": [
    "df[\"Video Uploads\"].unique()"
   ]
  },
  {
   "cell_type": "code",
   "execution_count": 36,
   "id": "1848aa6c",
   "metadata": {},
   "outputs": [],
   "source": [
    "index = df['Video Uploads'].sort_values(ascending = False).index"
   ]
  },
  {
   "cell_type": "code",
   "execution_count": 37,
   "id": "65920fc4",
   "metadata": {},
   "outputs": [
    {
     "data": {
      "text/html": [
       "<div>\n",
       "<style scoped>\n",
       "    .dataframe tbody tr th:only-of-type {\n",
       "        vertical-align: middle;\n",
       "    }\n",
       "\n",
       "    .dataframe tbody tr th {\n",
       "        vertical-align: top;\n",
       "    }\n",
       "\n",
       "    .dataframe thead th {\n",
       "        text-align: right;\n",
       "    }\n",
       "</style>\n",
       "<table border=\"1\" class=\"dataframe\">\n",
       "  <thead>\n",
       "    <tr style=\"text-align: right;\">\n",
       "      <th></th>\n",
       "      <th>Rank</th>\n",
       "      <th>Grade</th>\n",
       "      <th>Channel name</th>\n",
       "      <th>Video Uploads</th>\n",
       "      <th>Subscribers</th>\n",
       "      <th>Video views</th>\n",
       "    </tr>\n",
       "  </thead>\n",
       "  <tbody>\n",
       "    <tr>\n",
       "      <th>3453</th>\n",
       "      <td>3,454th</td>\n",
       "      <td>B+</td>\n",
       "      <td>AP Archive</td>\n",
       "      <td>422326.0</td>\n",
       "      <td>746325.0</td>\n",
       "      <td>548619569</td>\n",
       "    </tr>\n",
       "    <tr>\n",
       "      <th>1149</th>\n",
       "      <td>1,150th</td>\n",
       "      <td>A-</td>\n",
       "      <td>YTN NEWS</td>\n",
       "      <td>355996.0</td>\n",
       "      <td>820108.0</td>\n",
       "      <td>1640347646</td>\n",
       "    </tr>\n",
       "    <tr>\n",
       "      <th>2223</th>\n",
       "      <td>2,224th</td>\n",
       "      <td>B+</td>\n",
       "      <td>SBS Drama</td>\n",
       "      <td>335521.0</td>\n",
       "      <td>1418619.0</td>\n",
       "      <td>1565758044</td>\n",
       "    </tr>\n",
       "    <tr>\n",
       "      <th>323</th>\n",
       "      <td>324th</td>\n",
       "      <td>A</td>\n",
       "      <td>GMA News</td>\n",
       "      <td>269065.0</td>\n",
       "      <td>2599175.0</td>\n",
       "      <td>2786949164</td>\n",
       "    </tr>\n",
       "    <tr>\n",
       "      <th>2956</th>\n",
       "      <td>2,957th</td>\n",
       "      <td>B+</td>\n",
       "      <td>MLB</td>\n",
       "      <td>267649.0</td>\n",
       "      <td>1434206.0</td>\n",
       "      <td>1329206392</td>\n",
       "    </tr>\n",
       "    <tr>\n",
       "      <th>...</th>\n",
       "      <td>...</td>\n",
       "      <td>...</td>\n",
       "      <td>...</td>\n",
       "      <td>...</td>\n",
       "      <td>...</td>\n",
       "      <td>...</td>\n",
       "    </tr>\n",
       "    <tr>\n",
       "      <th>517</th>\n",
       "      <td>518th</td>\n",
       "      <td></td>\n",
       "      <td>Dusama Pets TV</td>\n",
       "      <td>NaN</td>\n",
       "      <td>NaN</td>\n",
       "      <td>91601494</td>\n",
       "    </tr>\n",
       "    <tr>\n",
       "      <th>2323</th>\n",
       "      <td>2,324th</td>\n",
       "      <td></td>\n",
       "      <td>Random</td>\n",
       "      <td>NaN</td>\n",
       "      <td>12275.0</td>\n",
       "      <td>17897584</td>\n",
       "    </tr>\n",
       "    <tr>\n",
       "      <th>3072</th>\n",
       "      <td>3,073rd</td>\n",
       "      <td></td>\n",
       "      <td>Boram Tube Toy Shcool [보람튜브…</td>\n",
       "      <td>NaN</td>\n",
       "      <td>726527.0</td>\n",
       "      <td>205555289</td>\n",
       "    </tr>\n",
       "    <tr>\n",
       "      <th>3247</th>\n",
       "      <td>3,248th</td>\n",
       "      <td></td>\n",
       "      <td>atheer sultan</td>\n",
       "      <td>NaN</td>\n",
       "      <td>NaN</td>\n",
       "      <td>79663674</td>\n",
       "    </tr>\n",
       "    <tr>\n",
       "      <th>4898</th>\n",
       "      <td>4,899th</td>\n",
       "      <td></td>\n",
       "      <td>ExzoticSlice</td>\n",
       "      <td>NaN</td>\n",
       "      <td>99785.0</td>\n",
       "      <td>9745292</td>\n",
       "    </tr>\n",
       "  </tbody>\n",
       "</table>\n",
       "<p>5000 rows × 6 columns</p>\n",
       "</div>"
      ],
      "text/plain": [
       "         Rank Grade                  Channel name  Video Uploads  Subscribers  \\\n",
       "3453  3,454th   B+                     AP Archive       422326.0     746325.0   \n",
       "1149  1,150th   A-                       YTN NEWS       355996.0     820108.0   \n",
       "2223  2,224th   B+                      SBS Drama       335521.0    1418619.0   \n",
       "323     324th    A                       GMA News       269065.0    2599175.0   \n",
       "2956  2,957th   B+                            MLB       267649.0    1434206.0   \n",
       "...       ...   ...                           ...            ...          ...   \n",
       "517     518th                      Dusama Pets TV            NaN          NaN   \n",
       "2323  2,324th                              Random            NaN      12275.0   \n",
       "3072  3,073rd        Boram Tube Toy Shcool [보람튜브…            NaN     726527.0   \n",
       "3247  3,248th                       atheer sultan            NaN          NaN   \n",
       "4898  4,899th                        ExzoticSlice            NaN      99785.0   \n",
       "\n",
       "      Video views  \n",
       "3453    548619569  \n",
       "1149   1640347646  \n",
       "2223   1565758044  \n",
       "323    2786949164  \n",
       "2956   1329206392  \n",
       "...           ...  \n",
       "517      91601494  \n",
       "2323     17897584  \n",
       "3072    205555289  \n",
       "3247     79663674  \n",
       "4898      9745292  \n",
       "\n",
       "[5000 rows x 6 columns]"
      ]
     },
     "execution_count": 37,
     "metadata": {},
     "output_type": "execute_result"
    }
   ],
   "source": [
    "df.iloc[index]"
   ]
  },
  {
   "cell_type": "code",
   "execution_count": 38,
   "id": "a2d3b4e4",
   "metadata": {},
   "outputs": [
    {
     "data": {
      "text/plain": [
       "3453    AP Archive\n",
       "1149      YTN NEWS\n",
       "2223     SBS Drama\n",
       "323       GMA News\n",
       "2956           MLB\n",
       "Name: Channel name, dtype: object"
      ]
     },
     "execution_count": 38,
     "metadata": {},
     "output_type": "execute_result"
    }
   ],
   "source": [
    "df.sort_values(\"Video Uploads\",ascending =False)[\"Channel name\"].head()"
   ]
  },
  {
   "cell_type": "code",
   "execution_count": null,
   "id": "9d994f21",
   "metadata": {},
   "outputs": [],
   "source": [
    "corelation matrics "
   ]
  },
  {
   "cell_type": "code",
   "execution_count": 76,
   "id": "aa26953a",
   "metadata": {},
   "outputs": [
    {
     "data": {
      "text/html": [
       "<div>\n",
       "<style scoped>\n",
       "    .dataframe tbody tr th:only-of-type {\n",
       "        vertical-align: middle;\n",
       "    }\n",
       "\n",
       "    .dataframe tbody tr th {\n",
       "        vertical-align: top;\n",
       "    }\n",
       "\n",
       "    .dataframe thead th {\n",
       "        text-align: right;\n",
       "    }\n",
       "</style>\n",
       "<table border=\"1\" class=\"dataframe\">\n",
       "  <thead>\n",
       "    <tr style=\"text-align: right;\">\n",
       "      <th></th>\n",
       "      <th>Video Uploads</th>\n",
       "      <th>Subscribers</th>\n",
       "      <th>Video views</th>\n",
       "    </tr>\n",
       "  </thead>\n",
       "  <tbody>\n",
       "    <tr>\n",
       "      <th>Video Uploads</th>\n",
       "      <td>1.000000</td>\n",
       "      <td>0.011362</td>\n",
       "      <td>0.087830</td>\n",
       "    </tr>\n",
       "    <tr>\n",
       "      <th>Subscribers</th>\n",
       "      <td>0.011362</td>\n",
       "      <td>1.000000</td>\n",
       "      <td>0.791241</td>\n",
       "    </tr>\n",
       "    <tr>\n",
       "      <th>Video views</th>\n",
       "      <td>0.087830</td>\n",
       "      <td>0.791241</td>\n",
       "      <td>1.000000</td>\n",
       "    </tr>\n",
       "  </tbody>\n",
       "</table>\n",
       "</div>"
      ],
      "text/plain": [
       "               Video Uploads  Subscribers  Video views\n",
       "Video Uploads       1.000000     0.011362     0.087830\n",
       "Subscribers         0.011362     1.000000     0.791241\n",
       "Video views         0.087830     0.791241     1.000000"
      ]
     },
     "execution_count": 76,
     "metadata": {},
     "output_type": "execute_result"
    }
   ],
   "source": [
    "c = df.corr()\n",
    "c"
   ]
  },
  {
   "cell_type": "code",
   "execution_count": 42,
   "id": "b2d13585",
   "metadata": {},
   "outputs": [
    {
     "data": {
      "text/plain": [
       "<AxesSubplot:>"
      ]
     },
     "execution_count": 42,
     "metadata": {},
     "output_type": "execute_result"
    },
    {
     "data": {
      "image/png": "[encoded data removed]",
      "text/plain": [
       "<Figure size 432x288 with 2 Axes>"
      ]
     },
     "metadata": {
      "needs_background": "light"
     },
     "output_type": "display_data"
    }
   ],
   "source": [
    "sns.heatmap(c)"
   ]
  },
  {
   "cell_type": "code",
   "execution_count": 44,
   "id": "9185a83d",
   "metadata": {},
   "outputs": [
    {
     "data": {
      "text/plain": [
       "Grade\n",
       "A++     37450.700000\n",
       "A+      16547.926829\n",
       "A        5357.026999\n",
       "A-       4136.514648\n",
       "B+       2985.988160\n",
       "                 NaN\n",
       "Name: Video Uploads, dtype: float64"
      ]
     },
     "execution_count": 44,
     "metadata": {},
     "output_type": "execute_result"
    }
   ],
   "source": [
    "df.groupby(\"Grade\")[\"Video Uploads\"].mean().sort_values(ascending = False )"
   ]
  },
  {
   "cell_type": "code",
   "execution_count": 63,
   "id": "e61476a6",
   "metadata": {},
   "outputs": [
    {
     "data": {
      "text/plain": [
       "<AxesSubplot:xlabel='Grade', ylabel='Video Uploads'>"
      ]
     },
     "execution_count": 63,
     "metadata": {},
     "output_type": "execute_result"
    },
    {
     "data": {
      "image/png": "[encoded data removed]",
      "text/plain": [
       "<Figure size 432x288 with 1 Axes>"
      ]
     },
     "metadata": {
      "needs_background": "light"
     },
     "output_type": "display_data"
    }
   ],
   "source": [
    "sns.barplot(x=df[\"Grade\"],y = df[\"Video Uploads\"])"
   ]
  },
  {
   "cell_type": "code",
   "execution_count": 65,
   "id": "17b40df2",
   "metadata": {},
   "outputs": [
    {
     "data": {
      "text/plain": [
       "Grade\n",
       "A++     2.119909e+10\n",
       "A+      6.168742e+09\n",
       "A       2.497973e+09\n",
       "A-      1.102450e+09\n",
       "B+      5.551838e+08\n",
       "Name: Video views, dtype: float64"
      ]
     },
     "execution_count": 65,
     "metadata": {},
     "output_type": "execute_result"
    }
   ],
   "source": [
    "df.groupby([\"Grade\"])[\"Video views\"].mean().sort_values(ascending = False)"
   ]
  },
  {
   "cell_type": "code",
   "execution_count": 66,
   "id": "2e43bd7c",
   "metadata": {},
   "outputs": [
    {
     "data": {
      "text/plain": [
       "<AxesSubplot:xlabel='Grade', ylabel='Video views'>"
      ]
     },
     "execution_count": 66,
     "metadata": {},
     "output_type": "execute_result"
    },
    {
     "data": {
      "image/png": "[encoded data removed]",
      "text/plain": [
       "<Figure size 432x288 with 1 Axes>"
      ]
     },
     "metadata": {
      "needs_background": "light"
     },
     "output_type": "display_data"
    }
   ],
   "source": [
    "sns.barplot(x = df[\"Grade\"],y = df[\"Video views\"])"
   ]
  },
  {
   "cell_type": "code",
   "execution_count": 73,
   "id": "d6e33d35",
   "metadata": {},
   "outputs": [
    {
     "data": {
      "text/plain": [
       "<AxesSubplot:xlabel='Grade', ylabel='Subscribers'>"
      ]
     },
     "execution_count": 73,
     "metadata": {},
     "output_type": "execute_result"
    },
    {
     "data": {
      "image/png": "[encoded data removed]",
      "text/plain": [
       "<Figure size 432x288 with 1 Axes>"
      ]
     },
     "metadata": {
      "needs_background": "light"
     },
     "output_type": "display_data"
    }
   ],
   "source": [
    "sns.barplot(x = \"Grade\",y=\"Subscribers\",data = df)"
   ]
  },
  {
   "cell_type": "code",
   "execution_count": 74,
   "id": "25d39ba3",
   "metadata": {},
   "outputs": [
    {
     "data": {
      "text/html": [
       "<div>\n",
       "<style scoped>\n",
       "    .dataframe tbody tr th:only-of-type {\n",
       "        vertical-align: middle;\n",
       "    }\n",
       "\n",
       "    .dataframe tbody tr th {\n",
       "        vertical-align: top;\n",
       "    }\n",
       "\n",
       "    .dataframe thead th {\n",
       "        text-align: right;\n",
       "    }\n",
       "</style>\n",
       "<table border=\"1\" class=\"dataframe\">\n",
       "  <thead>\n",
       "    <tr style=\"text-align: right;\">\n",
       "      <th></th>\n",
       "      <th>Video Uploads</th>\n",
       "      <th>Subscribers</th>\n",
       "      <th>Video views</th>\n",
       "    </tr>\n",
       "    <tr>\n",
       "      <th>Grade</th>\n",
       "      <th></th>\n",
       "      <th></th>\n",
       "      <th></th>\n",
       "    </tr>\n",
       "  </thead>\n",
       "  <tbody>\n",
       "    <tr>\n",
       "      <th>A</th>\n",
       "      <td>5709.855072</td>\n",
       "      <td>5.107136e+06</td>\n",
       "      <td>2.497973e+09</td>\n",
       "    </tr>\n",
       "    <tr>\n",
       "      <th>A+</th>\n",
       "      <td>16960.300000</td>\n",
       "      <td>1.172695e+07</td>\n",
       "      <td>6.168742e+09</td>\n",
       "    </tr>\n",
       "    <tr>\n",
       "      <th>A++</th>\n",
       "      <td>37450.700000</td>\n",
       "      <td>2.228176e+07</td>\n",
       "      <td>2.119909e+10</td>\n",
       "    </tr>\n",
       "    <tr>\n",
       "      <th>A-</th>\n",
       "      <td>4382.582359</td>\n",
       "      <td>2.798520e+06</td>\n",
       "      <td>1.102450e+09</td>\n",
       "    </tr>\n",
       "    <tr>\n",
       "      <th>B+</th>\n",
       "      <td>3136.157237</td>\n",
       "      <td>1.535208e+06</td>\n",
       "      <td>5.551838e+08</td>\n",
       "    </tr>\n",
       "  </tbody>\n",
       "</table>\n",
       "</div>"
      ],
      "text/plain": [
       "       Video Uploads   Subscribers   Video views\n",
       "Grade                                           \n",
       "A        5709.855072  5.107136e+06  2.497973e+09\n",
       "A+      16960.300000  1.172695e+07  6.168742e+09\n",
       "A++     37450.700000  2.228176e+07  2.119909e+10\n",
       "A-       4382.582359  2.798520e+06  1.102450e+09\n",
       "B+       3136.157237  1.535208e+06  5.551838e+08"
      ]
     },
     "execution_count": 74,
     "metadata": {},
     "output_type": "execute_result"
    }
   ],
   "source": [
    "df.groupby([\"Grade\"]).mean()"
   ]
  },
  {
   "cell_type": "code",
   "execution_count": null,
   "id": "4c3507c2",
   "metadata": {},
   "outputs": [],
   "source": []
  },
  {
   "cell_type": "code",
   "execution_count": null,
   "id": "31803516",
   "metadata": {},
   "outputs": [],
   "source": []
  },
  {
   "cell_type": "code",
   "execution_count": null,
   "id": "f8c44491",
   "metadata": {},
   "outputs": [],
   "source": []
  },
  {
   "cell_type": "code",
   "execution_count": 18,
   "id": "c1e2a547",
   "metadata": {},
   "outputs": [
    {
     "data": {
      "text/html": [
       "<div>\n",
       "<style scoped>\n",
       "    .dataframe tbody tr th:only-of-type {\n",
       "        vertical-align: middle;\n",
       "    }\n",
       "\n",
       "    .dataframe tbody tr th {\n",
       "        vertical-align: top;\n",
       "    }\n",
       "\n",
       "    .dataframe thead th {\n",
       "        text-align: right;\n",
       "    }\n",
       "</style>\n",
       "<table border=\"1\" class=\"dataframe\">\n",
       "  <thead>\n",
       "    <tr style=\"text-align: right;\">\n",
       "      <th></th>\n",
       "      <th>Rank</th>\n",
       "      <th>Grade</th>\n",
       "      <th>Channel name</th>\n",
       "      <th>Video Uploads</th>\n",
       "      <th>Subscribers</th>\n",
       "      <th>Video views</th>\n",
       "    </tr>\n",
       "  </thead>\n",
       "  <tbody>\n",
       "    <tr>\n",
       "      <th>1878</th>\n",
       "      <td>1,879th</td>\n",
       "      <td>A-</td>\n",
       "      <td>Bhoot Pret Manu Bhaiya Ji</td>\n",
       "      <td>999</td>\n",
       "      <td>162291</td>\n",
       "      <td>54727215</td>\n",
       "    </tr>\n",
       "    <tr>\n",
       "      <th>1228</th>\n",
       "      <td>1,229th</td>\n",
       "      <td>A-</td>\n",
       "      <td>Saas Bahu Aur Betiyaan</td>\n",
       "      <td>9987</td>\n",
       "      <td>1681614</td>\n",
       "      <td>820102614</td>\n",
       "    </tr>\n",
       "    <tr>\n",
       "      <th>1748</th>\n",
       "      <td>1,749th</td>\n",
       "      <td>A-</td>\n",
       "      <td>SBS Culture</td>\n",
       "      <td>99544</td>\n",
       "      <td>322193</td>\n",
       "      <td>402883303</td>\n",
       "    </tr>\n",
       "    <tr>\n",
       "      <th>1148</th>\n",
       "      <td>1,149th</td>\n",
       "      <td>A-</td>\n",
       "      <td>WildBrain em Português</td>\n",
       "      <td>995</td>\n",
       "      <td>985848</td>\n",
       "      <td>388267495</td>\n",
       "    </tr>\n",
       "    <tr>\n",
       "      <th>4064</th>\n",
       "      <td>4,065th</td>\n",
       "      <td>B+</td>\n",
       "      <td>AmmA Music</td>\n",
       "      <td>995</td>\n",
       "      <td>1317578</td>\n",
       "      <td>1298288901</td>\n",
       "    </tr>\n",
       "    <tr>\n",
       "      <th>...</th>\n",
       "      <td>...</td>\n",
       "      <td>...</td>\n",
       "      <td>...</td>\n",
       "      <td>...</td>\n",
       "      <td>...</td>\n",
       "      <td>...</td>\n",
       "    </tr>\n",
       "    <tr>\n",
       "      <th>4975</th>\n",
       "      <td>4,976th</td>\n",
       "      <td>B+</td>\n",
       "      <td>Funny Kids</td>\n",
       "      <td>1</td>\n",
       "      <td>150091</td>\n",
       "      <td>21933876</td>\n",
       "    </tr>\n",
       "    <tr>\n",
       "      <th>4474</th>\n",
       "      <td>4,475th</td>\n",
       "      <td>B+</td>\n",
       "      <td>hyghhopes</td>\n",
       "      <td>1</td>\n",
       "      <td>15325</td>\n",
       "      <td>14842098</td>\n",
       "    </tr>\n",
       "    <tr>\n",
       "      <th>628</th>\n",
       "      <td>629th</td>\n",
       "      <td>A</td>\n",
       "      <td>cocoz toon</td>\n",
       "      <td>1</td>\n",
       "      <td>2162992</td>\n",
       "      <td>333012122</td>\n",
       "    </tr>\n",
       "    <tr>\n",
       "      <th>4100</th>\n",
       "      <td>4,101st</td>\n",
       "      <td>B+</td>\n",
       "      <td>DenzelCurryVEVO</td>\n",
       "      <td>1</td>\n",
       "      <td>8012</td>\n",
       "      <td>25878252</td>\n",
       "    </tr>\n",
       "    <tr>\n",
       "      <th>2404</th>\n",
       "      <td>2,405th</td>\n",
       "      <td>B+</td>\n",
       "      <td>ItsHARSH007 Gaming</td>\n",
       "      <td>1</td>\n",
       "      <td>23499</td>\n",
       "      <td>75</td>\n",
       "    </tr>\n",
       "  </tbody>\n",
       "</table>\n",
       "<p>4610 rows × 6 columns</p>\n",
       "</div>"
      ],
      "text/plain": [
       "         Rank Grade               Channel name Video Uploads Subscribers  \\\n",
       "1878  1,879th   A-   Bhoot Pret Manu Bhaiya Ji           999      162291   \n",
       "1228  1,229th   A-      Saas Bahu Aur Betiyaan          9987     1681614   \n",
       "1748  1,749th   A-                 SBS Culture         99544      322193   \n",
       "1148  1,149th   A-      WildBrain em Português           995      985848   \n",
       "4064  4,065th   B+                  AmmA Music           995     1317578   \n",
       "...       ...   ...                        ...           ...         ...   \n",
       "4975  4,976th   B+                  Funny Kids             1      150091   \n",
       "4474  4,475th   B+                   hyghhopes             1       15325   \n",
       "628     629th    A                  cocoz toon             1     2162992   \n",
       "4100  4,101st   B+             DenzelCurryVEVO             1        8012   \n",
       "2404  2,405th   B+          ItsHARSH007 Gaming             1       23499   \n",
       "\n",
       "      Video views  \n",
       "1878     54727215  \n",
       "1228    820102614  \n",
       "1748    402883303  \n",
       "1148    388267495  \n",
       "4064   1298288901  \n",
       "...           ...  \n",
       "4975     21933876  \n",
       "4474     14842098  \n",
       "628     333012122  \n",
       "4100     25878252  \n",
       "2404           75  \n",
       "\n",
       "[4610 rows x 6 columns]"
      ]
     },
     "execution_count": 18,
     "metadata": {},
     "output_type": "execute_result"
    }
   ],
   "source": [
    "df"
   ]
  },
  {
   "cell_type": "code",
   "execution_count": null,
   "id": "0c7d95a3",
   "metadata": {},
   "outputs": [],
   "source": [
    "df"
   ]
  },
  {
   "cell_type": "code",
   "execution_count": null,
   "id": "556f88ed",
   "metadata": {},
   "outputs": [],
   "source": []
  }
 ],
 "metadata": {
  "kernelspec": {
   "display_name": "Python 3 (ipykernel)",
   "language": "python",
   "name": "python3"
  },
  "language_info": {
   "codemirror_mode": {
    "name": "ipython",
    "version": 3
   },
   "file_extension": ".py",
   "mimetype": "text/x-python",
   "name": "python",
   "nbconvert_exporter": "python",
   "pygments_lexer": "ipython3",
   "version": "3.9.7"
  }
 },
 "nbformat": 4,
 "nbformat_minor": 5
}
